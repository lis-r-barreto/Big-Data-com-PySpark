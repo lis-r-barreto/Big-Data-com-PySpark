{
  "nbformat": 4,
  "nbformat_minor": 0,
  "metadata": {
    "colab": {
      "name": "Big Data com PySpark no Google Colab.ipynb",
      "provenance": [],
      "include_colab_link": true
    },
    "kernelspec": {
      "name": "python3",
      "display_name": "Python 3"
    }
  },
  "cells": [
    {
      "cell_type": "markdown",
      "metadata": {
        "id": "view-in-github",
        "colab_type": "text"
      },
      "source": [
        "<a href=\"https://colab.research.google.com/github/lis-r-barreto/Big-Data-com-PySpark/blob/master/Big_Data_com_PySpark_no_Google_Colab.ipynb\" target=\"_parent\"><img src=\"https://colab.research.google.com/assets/colab-badge.svg\" alt=\"Open In Colab\"/></a>"
      ]
    },
    {
      "cell_type": "markdown",
      "metadata": {
        "id": "iRMmNTO_8uPL"
      },
      "source": [
        "# **Analisando os Dados do MovieLens 🎬**\n",
        "## **Contexto**\n",
        "\n",
        "<center>\n",
        "<img src=\"https://s3-us-west-2.amazonaws.com/flx-editorial-wordpress/wp-content/uploads/2018/03/13153742/RT_300EssentialMovies_700X250.jpg\" alt=\"Posters de filmes\" width=\"50%\"/>\n",
        "</center> \n",
        "\n",
        "O **MovieLens** é um sistema de recomendação e comunidade virtual baseado na Web que recomenda filmes para os usuários assistirem, com base em suas preferências de filme usando filtro colaborativo das classificações e críticas de filmes dos membros. \n",
        "\n",
        "#### **O objetivo dessa análise é explorar dois conjuntos de dados do MovieLens que contém informações sobre diversos filmes e a partir dessas informações extrair insights.**\n",
        "\n",
        "## **Big Data com PySpark**\n",
        "\n",
        "<center>\n",
        "<img class=\"one\" src=\"https://aprendizadodemaquina.com/media/filer_public_thumbnails/filer_public/3a/65/3a658469-383e-4c1d-b4fb-502229858579/pyspark.png__800x450_q85_crop_subsampling-2.png\"  height=\"150\"><br>\n",
        "</center>\n",
        "\n",
        "A biblioteca PySpark permite você criar seu servidor Apache Spark, trabalhar com grandes volumes de dados e até mesmo fazer streaming em tempo real."
      ]
    },
    {
      "cell_type": "markdown",
      "metadata": {
        "id": "pci_oK13fzX0"
      },
      "source": [
        "## **1.0. Configurações 🛠️**\n",
        "\n",
        "<center>\n",
        "<img src=\"https://1.bp.blogspot.com/-SJ9kDlUd5qo/Xuo_0lQytwI/AAAAAAACK4M/J4miSQMT1OsJT5XMG9Au5DfiO_fd18kfgCLcBGAsYHQ/s1600/b1d5c4ae072a7173830c7c17690ed2c9.gif\" alt=\"Cena do filmes Tempos Modernos com Charles Chaplin nas engrenagens\" width=\"400\"/>\n",
        "</center>"
      ]
    },
    {
      "cell_type": "code",
      "metadata": {
        "id": "Oz_8sWI7PKEl",
        "colab": {
          "base_uri": "https://localhost:8080/"
        },
        "outputId": "3f4bdae5-2f65-400a-e67e-6acfde6087a0"
      },
      "source": [
        "# Instalando as dependências\n",
        "!apt-get install openjdk-8-jdk-headless -qq > /dev/null\n",
        "!wget -q https://archive.apache.org/dist/spark/spark-2.4.4/spark-2.4.4-bin-hadoop2.7.tgz\n",
        "!tar xf spark-2.4.4-bin-hadoop2.7.tgz\n",
        "!pip install -q findspark\n",
        "!pip install koalas"
      ],
      "execution_count": 138,
      "outputs": [
        {
          "output_type": "stream",
          "text": [
            "Requirement already satisfied: koalas in /usr/local/lib/python3.7/dist-packages (1.8.1)\n",
            "Requirement already satisfied: numpy>=1.14 in /usr/local/lib/python3.7/dist-packages (from koalas) (1.19.5)\n",
            "Requirement already satisfied: pandas>=0.23.2 in /usr/local/lib/python3.7/dist-packages (from koalas) (1.1.5)\n",
            "Requirement already satisfied: pyarrow>=0.10 in /usr/local/lib/python3.7/dist-packages (from koalas) (3.0.0)\n",
            "Requirement already satisfied: python-dateutil>=2.7.3 in /usr/local/lib/python3.7/dist-packages (from pandas>=0.23.2->koalas) (2.8.1)\n",
            "Requirement already satisfied: pytz>=2017.2 in /usr/local/lib/python3.7/dist-packages (from pandas>=0.23.2->koalas) (2018.9)\n",
            "Requirement already satisfied: six>=1.5 in /usr/local/lib/python3.7/dist-packages (from python-dateutil>=2.7.3->pandas>=0.23.2->koalas) (1.15.0)\n"
          ],
          "name": "stdout"
        }
      ]
    },
    {
      "cell_type": "markdown",
      "metadata": {
        "id": "cabkOXVRPYgq"
      },
      "source": [
        "A próxima etapa é configurar as variáveis de ambiente, pois isso habilita o ambiente do Colab a identificar corretamente onde as dependências estão rodando.\n",
        "\n",
        "Para conseguir “manipular” o terminal e interagir como ele, você pode usar a biblioteca os."
      ]
    },
    {
      "cell_type": "code",
      "metadata": {
        "id": "RkpG11RQPbRf"
      },
      "source": [
        "# Configurando as variáveis de ambiente\n",
        "import os\n",
        "os.environ[\"JAVA_HOME\"] = \"/usr/lib/jvm/java-8-openjdk-amd64\"\n",
        "os.environ[\"SPARK_HOME\"] = \"/content/spark-2.4.4-bin-hadoop2.7\"\n",
        "\n",
        "# Tornando o PySpark \"importável\"\n",
        "import findspark\n",
        "findspark.init('spark-2.4.4-bin-hadoop2.7')\n",
        "\n",
        "# Importando as bibliotecas default\n",
        "import math\n",
        "import numpy as np\n",
        "import pandas as pd\n",
        "import matplotlib.pyplot as plt\n",
        "import matplotlib.ticker as ticker\n",
        "import seaborn as sns\n",
        "import random\n",
        "from pprint import pprint\n",
        "from matplotlib.lines import Line2D\n",
        "\n",
        "# Importando o Koalas\n",
        "import databricks.koalas\n",
        "\n",
        "# Importando o PySpark SQL\n",
        "from pyspark.sql import SparkSession\n",
        "import pyspark.sql.functions as F\n",
        "from pyspark.sql.types import *"
      ],
      "execution_count": 139,
      "outputs": []
    },
    {
      "cell_type": "markdown",
      "metadata": {
        "id": "Klur5aiRPdqx"
      },
      "source": [
        "Com tudo pronto, vamos rodar uma sessão local para testar se a instalação funcionou corretamente."
      ]
    },
    {
      "cell_type": "code",
      "metadata": {
        "id": "G5ze62jFCnjq"
      },
      "source": [
        "# Iniciando uma sessão local e importando os dados\n",
        "sc = SparkSession.builder.master('local[*]').getOrCreate()"
      ],
      "execution_count": 140,
      "outputs": []
    },
    {
      "cell_type": "markdown",
      "metadata": {
        "id": "INVWyyga9jqq"
      },
      "source": [
        "## **2.0. Obtenção dos Dados**\n",
        "\n",
        "Trabalharemos com um conjunto de dados real, a avaliação de diversos filmes por usuários da internet, do MovieLens. O site abriga variações destes dados, que podem ser baixados sob licença de uso. Existem versões de 20 milhões, 100 mil, 27 milhões de notas (ratings) para filmes, e por aí vai.\n",
        "\n",
        "Nesta análise optaremos pelo arquivo contendo 100 mil. Cada versão disponibilizada pelo site é atualizada periodicamente, então, se baixarmos uma delas hoje, provavelmente dali um tempo o mesmo arquivo terá notas e filmes diferentes. Isso porque trata-se de uma amostra aleatória para análise. \n",
        "\n",
        "Começamos o nosso trabalho carregando o dataset:"
      ]
    },
    {
      "cell_type": "code",
      "metadata": {
        "id": "gpJqWggpPKXO",
        "colab": {
          "base_uri": "https://localhost:8080/"
        },
        "outputId": "e500e977-dfc4-4058-a5ab-b8801d23075a"
      },
      "source": [
        "# Download do http para arquivo local\n",
        "!wget --quiet --show-progress https://raw.githubusercontent.com/lis-r-barreto/Big-Data-com-PySpark/master/data-movielens/movies.csv\n",
        "\n",
        "!wget --quiet --show-progress https://raw.githubusercontent.com/lis-r-barreto/Big-Data-com-PySpark/master/data-movielens/ratings.csv\n",
        "\n",
        "# Carregando dados\n",
        "df_movies = sc.read.csv(\"./movies.csv\", inferSchema=True, header=True)\n",
        "df_ratings = sc.read.csv(\"./ratings.csv\", inferSchema=True, header=True)"
      ],
      "execution_count": 141,
      "outputs": [
        {
          "output_type": "stream",
          "text": [
            "movies.csv.8        100%[===================>] 482.84K  --.-KB/s    in 0.009s  \n",
            "ratings.csv.8       100%[===================>]   2.37M  --.-KB/s    in 0.05s   \n"
          ],
          "name": "stdout"
        }
      ]
    },
    {
      "cell_type": "markdown",
      "metadata": {
        "id": "WroyLN6X99pl"
      },
      "source": [
        "### **Como as avaliações dos filmes estão organizadas?**\n",
        "\n",
        "São muitas informações, portanto atribuiremos tudo isso a notas e, em vez de todas, utilizaremos o comando `show()` para ler apenas as 5 primeiras avaliações do dataset:"
      ]
    },
    {
      "cell_type": "code",
      "metadata": {
        "colab": {
          "base_uri": "https://localhost:8080/"
        },
        "id": "7S1DIYFiTbAq",
        "outputId": "c34d5839-62d5-4195-8972-744aeafef8f8"
      },
      "source": [
        "df_movies.show(5)"
      ],
      "execution_count": 142,
      "outputs": [
        {
          "output_type": "stream",
          "text": [
            "+-------+--------------------+--------------------+\n",
            "|movieId|               title|              genres|\n",
            "+-------+--------------------+--------------------+\n",
            "|      1|    Toy Story (1995)|Adventure|Animati...|\n",
            "|      2|      Jumanji (1995)|Adventure|Childre...|\n",
            "|      3|Grumpier Old Men ...|      Comedy|Romance|\n",
            "|      4|Waiting to Exhale...|Comedy|Drama|Romance|\n",
            "|      5|Father of the Bri...|              Comedy|\n",
            "+-------+--------------------+--------------------+\n",
            "only showing top 5 rows\n",
            "\n"
          ],
          "name": "stdout"
        }
      ]
    },
    {
      "cell_type": "code",
      "metadata": {
        "colab": {
          "base_uri": "https://localhost:8080/"
        },
        "id": "lalG2Rr5Tfrp",
        "outputId": "1df1f496-5465-4ff6-fedf-2b4e17c1540f"
      },
      "source": [
        "df_ratings.show(5)"
      ],
      "execution_count": 143,
      "outputs": [
        {
          "output_type": "stream",
          "text": [
            "+------+-------+------+---------+\n",
            "|userId|movieId|rating|timestamp|\n",
            "+------+-------+------+---------+\n",
            "|     1|      1|   4.0|964982703|\n",
            "|     1|      3|   4.0|964981247|\n",
            "|     1|      6|   4.0|964982224|\n",
            "|     1|     47|   5.0|964983815|\n",
            "|     1|     50|   5.0|964982931|\n",
            "+------+-------+------+---------+\n",
            "only showing top 5 rows\n",
            "\n"
          ],
          "name": "stdout"
        }
      ]
    },
    {
      "cell_type": "markdown",
      "metadata": {
        "id": "SMy42GMZEz6o"
      },
      "source": [
        "Para ler apenas as 5 últimas avaliações do dataset:"
      ]
    },
    {
      "cell_type": "code",
      "metadata": {
        "colab": {
          "base_uri": "https://localhost:8080/"
        },
        "id": "jd-4NTBM_TCV",
        "outputId": "8dbe480f-5216-4506-96d3-1221311a7688"
      },
      "source": [
        "df_movies = df_movies.withColumn(\"index\", F.monotonically_increasing_id())\n",
        "df_movies.orderBy(F.desc(\"index\")).drop(\"index\").show(5)"
      ],
      "execution_count": 144,
      "outputs": [
        {
          "output_type": "stream",
          "text": [
            "+-------+--------------------+--------------------+\n",
            "|movieId|               title|              genres|\n",
            "+-------+--------------------+--------------------+\n",
            "| 193609|Andrew Dice Clay:...|              Comedy|\n",
            "| 193587|Bungo Stray Dogs:...|    Action|Animation|\n",
            "| 193585|        Flint (2017)|               Drama|\n",
            "| 193583|No Game No Life: ...|Animation|Comedy|...|\n",
            "| 193581|Black Butler: Boo...|Action|Animation|...|\n",
            "+-------+--------------------+--------------------+\n",
            "only showing top 5 rows\n",
            "\n"
          ],
          "name": "stdout"
        }
      ]
    },
    {
      "cell_type": "code",
      "metadata": {
        "colab": {
          "base_uri": "https://localhost:8080/"
        },
        "id": "7xyHaiB5_A4T",
        "outputId": "ae89718f-6a1b-4e89-9295-918239cb3293"
      },
      "source": [
        "df_ratings = df_ratings.withColumn(\"index\", F.monotonically_increasing_id())\n",
        "df_ratings.orderBy(F.desc(\"index\")).drop(\"index\").show(5)"
      ],
      "execution_count": 145,
      "outputs": [
        {
          "output_type": "stream",
          "text": [
            "+------+-------+------+----------+\n",
            "|userId|movieId|rating| timestamp|\n",
            "+------+-------+------+----------+\n",
            "|   610| 170875|   3.0|1493846415|\n",
            "|   610| 168252|   5.0|1493846352|\n",
            "|   610| 168250|   5.0|1494273047|\n",
            "|   610| 168248|   5.0|1493850091|\n",
            "|   610| 166534|   4.0|1493848402|\n",
            "+------+-------+------+----------+\n",
            "only showing top 5 rows\n",
            "\n"
          ],
          "name": "stdout"
        }
      ]
    },
    {
      "cell_type": "markdown",
      "metadata": {
        "id": "VeSpyikJ9xR4"
      },
      "source": [
        "##**3.0. Manipulação dos Dados**\n",
        "\n",
        "Para manipular os dados usaremos os métodos do PySpark, pois são mais rápidos que usar SQL além de ser mais intuitivo e ter menos retrabalho no código. "
      ]
    },
    {
      "cell_type": "code",
      "metadata": {
        "colab": {
          "base_uri": "https://localhost:8080/"
        },
        "id": "XuYWL05wVpHo",
        "outputId": "fdc9ea47-37d2-421e-b313-b3ca6bd36b39"
      },
      "source": [
        "inner_join_movies_ratings = df_movies.join(df_ratings, df_movies.movieId == df_ratings.movieId, 'inner')\n",
        "inner_join_movies_ratings.show(5)"
      ],
      "execution_count": 146,
      "outputs": [
        {
          "output_type": "stream",
          "text": [
            "+-------+--------------------+--------------------+-----+------+-------+------+---------+-----+\n",
            "|movieId|               title|              genres|index|userId|movieId|rating|timestamp|index|\n",
            "+-------+--------------------+--------------------+-----+------+-------+------+---------+-----+\n",
            "|      1|    Toy Story (1995)|Adventure|Animati...|    0|     1|      1|   4.0|964982703|    0|\n",
            "|      3|Grumpier Old Men ...|      Comedy|Romance|    2|     1|      3|   4.0|964981247|    1|\n",
            "|      6|         Heat (1995)|Action|Crime|Thri...|    5|     1|      6|   4.0|964982224|    2|\n",
            "|     47|Seven (a.k.a. Se7...|    Mystery|Thriller|   43|     1|     47|   5.0|964983815|    3|\n",
            "|     50|Usual Suspects, T...|Crime|Mystery|Thr...|   46|     1|     50|   5.0|964982931|    4|\n",
            "+-------+--------------------+--------------------+-----+------+-------+------+---------+-----+\n",
            "only showing top 5 rows\n",
            "\n"
          ],
          "name": "stdout"
        }
      ]
    },
    {
      "cell_type": "code",
      "metadata": {
        "colab": {
          "base_uri": "https://localhost:8080/"
        },
        "id": "D0-GujEuUEaP",
        "outputId": "e822c530-c76f-4146-affa-91991831ce20"
      },
      "source": [
        "# Vendo algumas informações sobre os tipos de dados de cada coluna\n",
        "df_movies_ratings = inner_join_movies_ratings\n",
        "df_movies_ratings.printSchema()"
      ],
      "execution_count": 147,
      "outputs": [
        {
          "output_type": "stream",
          "text": [
            "root\n",
            " |-- movieId: integer (nullable = true)\n",
            " |-- title: string (nullable = true)\n",
            " |-- genres: string (nullable = true)\n",
            " |-- index: long (nullable = false)\n",
            " |-- userId: integer (nullable = true)\n",
            " |-- movieId: integer (nullable = true)\n",
            " |-- rating: double (nullable = true)\n",
            " |-- timestamp: integer (nullable = true)\n",
            " |-- index: long (nullable = false)\n",
            "\n"
          ],
          "name": "stdout"
        }
      ]
    },
    {
      "cell_type": "code",
      "metadata": {
        "colab": {
          "base_uri": "https://localhost:8080/"
        },
        "id": "T8cqktDMUOuS",
        "outputId": "b283c8df-cd79-44f3-b7d1-4d8368ddc7d4"
      },
      "source": [
        "df_movies_ratings.summary().show()"
      ],
      "execution_count": 148,
      "outputs": [
        {
          "output_type": "stream",
          "text": [
            "+-------+----------------+--------------------+------------------+------------------+------------------+----------------+------------------+--------------------+---------------+\n",
            "|summary|         movieId|               title|            genres|             index|            userId|         movieId|            rating|           timestamp|          index|\n",
            "+-------+----------------+--------------------+------------------+------------------+------------------+----------------+------------------+--------------------+---------------+\n",
            "|  count|          100836|              100836|            100836|            100836|            100836|          100836|            100836|              100836|         100836|\n",
            "|   mean|19435.2957177992|                null|              null|3107.3762346780914|326.12756356856676|19435.2957177992| 3.501556983616962|1.2059460873684695E9|        50417.5|\n",
            "| stddev|35530.9871987003|                null|              null|2633.5128007746953| 182.6184914635004|35530.9871987003|1.0425292390606342|2.1626103599513078E8|29108.990209212|\n",
            "|    min|               1|\"11'09\"\"01 - Sept...|(no genres listed)|                 0|                 1|               1|               0.5|           828124615|              0|\n",
            "|    25%|            1199|                null|              null|               901|               177|            1199|               3.0|          1018535155|          25201|\n",
            "|    50%|            2991|                null|              null|              2254|               325|            2991|               3.5|          1186086516|          50414|\n",
            "|    75%|            8092|                null|              null|              5099|               477|            8092|               4.0|          1435993828|          75617|\n",
            "|    max|          193609|À nous la liberté...|           Western|              9741|               610|          193609|               5.0|          1537799250|         100835|\n",
            "+-------+----------------+--------------------+------------------+------------------+------------------+----------------+------------------+--------------------+---------------+\n",
            "\n"
          ],
          "name": "stdout"
        }
      ]
    },
    {
      "cell_type": "code",
      "metadata": {
        "colab": {
          "base_uri": "https://localhost:8080/"
        },
        "id": "SjH5GvP9eniS",
        "outputId": "91e49dd3-8727-402b-c68b-4e73c19d29eb"
      },
      "source": [
        "df_movies_ratings.drop(\"userId\", \"timestamp\").show()"
      ],
      "execution_count": 149,
      "outputs": [
        {
          "output_type": "stream",
          "text": [
            "+-------+--------------------+--------------------+-----+-------+------+-----+\n",
            "|movieId|               title|              genres|index|movieId|rating|index|\n",
            "+-------+--------------------+--------------------+-----+-------+------+-----+\n",
            "|      1|    Toy Story (1995)|Adventure|Animati...|    0|      1|   4.0|    0|\n",
            "|      3|Grumpier Old Men ...|      Comedy|Romance|    2|      3|   4.0|    1|\n",
            "|      6|         Heat (1995)|Action|Crime|Thri...|    5|      6|   4.0|    2|\n",
            "|     47|Seven (a.k.a. Se7...|    Mystery|Thriller|   43|     47|   5.0|    3|\n",
            "|     50|Usual Suspects, T...|Crime|Mystery|Thr...|   46|     50|   5.0|    4|\n",
            "|     70|From Dusk Till Da...|Action|Comedy|Hor...|   62|     70|   3.0|    5|\n",
            "|    101|Bottle Rocket (1996)|Adventure|Comedy|...|   89|    101|   5.0|    6|\n",
            "|    110|   Braveheart (1995)|    Action|Drama|War|   97|    110|   4.0|    7|\n",
            "|    151|      Rob Roy (1995)|Action|Drama|Roma...|  124|    151|   5.0|    8|\n",
            "|    157|Canadian Bacon (1...|          Comedy|War|  130|    157|   5.0|    9|\n",
            "|    163|    Desperado (1995)|Action|Romance|We...|  136|    163|   5.0|   10|\n",
            "|    216|Billy Madison (1995)|              Comedy|  184|    216|   5.0|   11|\n",
            "|    223|       Clerks (1994)|              Comedy|  190|    223|   3.0|   12|\n",
            "|    231|Dumb & Dumber (Du...|    Adventure|Comedy|  197|    231|   5.0|   13|\n",
            "|    235|      Ed Wood (1994)|        Comedy|Drama|  201|    235|   4.0|   14|\n",
            "|    260|Star Wars: Episod...|Action|Adventure|...|  224|    260|   5.0|   15|\n",
            "|    296| Pulp Fiction (1994)|Comedy|Crime|Dram...|  257|    296|   3.0|   16|\n",
            "|    316|     Stargate (1994)|Action|Adventure|...|  275|    316|   3.0|   17|\n",
            "|    333|    Tommy Boy (1995)|              Comedy|  291|    333|   5.0|   18|\n",
            "|    349|Clear and Present...|Action|Crime|Dram...|  307|    349|   4.0|   19|\n",
            "+-------+--------------------+--------------------+-----+-------+------+-----+\n",
            "only showing top 20 rows\n",
            "\n"
          ],
          "name": "stdout"
        }
      ]
    },
    {
      "cell_type": "code",
      "metadata": {
        "colab": {
          "base_uri": "https://localhost:8080/"
        },
        "id": "o463R0P9-Ojc",
        "outputId": "9a16496d-ca0b-4603-ab3b-b819cc7750fb"
      },
      "source": [
        "df_movies_ratings.describe(\"genres\").show()"
      ],
      "execution_count": 150,
      "outputs": [
        {
          "output_type": "stream",
          "text": [
            "+-------+------------------+\n",
            "|summary|            genres|\n",
            "+-------+------------------+\n",
            "|  count|            100836|\n",
            "|   mean|              null|\n",
            "| stddev|              null|\n",
            "|    min|(no genres listed)|\n",
            "|    max|           Western|\n",
            "+-------+------------------+\n",
            "\n"
          ],
          "name": "stdout"
        }
      ]
    },
    {
      "cell_type": "code",
      "metadata": {
        "colab": {
          "base_uri": "https://localhost:8080/"
        },
        "id": "mqfDj91MTv3m",
        "outputId": "5e46775d-2f71-4e8a-a8de-3f39891cb156"
      },
      "source": [
        "df_movies_ratings.describe(\"rating\").show()"
      ],
      "execution_count": 151,
      "outputs": [
        {
          "output_type": "stream",
          "text": [
            "+-------+------------------+\n",
            "|summary|            rating|\n",
            "+-------+------------------+\n",
            "|  count|            100836|\n",
            "|   mean| 3.501556983616962|\n",
            "| stddev|1.0425292390606342|\n",
            "|    min|               0.5|\n",
            "|    max|               5.0|\n",
            "+-------+------------------+\n",
            "\n"
          ],
          "name": "stdout"
        }
      ]
    },
    {
      "cell_type": "code",
      "metadata": {
        "colab": {
          "base_uri": "https://localhost:8080/"
        },
        "id": "sTdq94-jBU55",
        "outputId": "f7d0af94-9d87-4e1b-fc25-ee251926ad41"
      },
      "source": [
        "df_movies_ratings.select(\"rating\").distinct().show()"
      ],
      "execution_count": 152,
      "outputs": [
        {
          "output_type": "stream",
          "text": [
            "+------+\n",
            "|rating|\n",
            "+------+\n",
            "|   3.5|\n",
            "|   4.5|\n",
            "|   2.5|\n",
            "|   1.0|\n",
            "|   4.0|\n",
            "|   0.5|\n",
            "|   3.0|\n",
            "|   2.0|\n",
            "|   1.5|\n",
            "|   5.0|\n",
            "+------+\n",
            "\n"
          ],
          "name": "stdout"
        }
      ]
    },
    {
      "cell_type": "code",
      "metadata": {
        "colab": {
          "base_uri": "https://localhost:8080/"
        },
        "id": "qKcg2BXSB-VV",
        "outputId": "855df2b2-75a0-48ca-c527-dd97b922336e"
      },
      "source": [
        "df_movies_ratings.select(\"title\", \"genres\", \"rating\").filter(F.col(\"rating\") >= 4.9).show(truncate=False)"
      ],
      "execution_count": 153,
      "outputs": [
        {
          "output_type": "stream",
          "text": [
            "+-----------------------------------------+--------------------------------------------+------+\n",
            "|title                                    |genres                                      |rating|\n",
            "+-----------------------------------------+--------------------------------------------+------+\n",
            "|Seven (a.k.a. Se7en) (1995)              |Mystery|Thriller                            |5.0   |\n",
            "|Usual Suspects, The (1995)               |Crime|Mystery|Thriller                      |5.0   |\n",
            "|Bottle Rocket (1996)                     |Adventure|Comedy|Crime|Romance              |5.0   |\n",
            "|Rob Roy (1995)                           |Action|Drama|Romance|War                    |5.0   |\n",
            "|Canadian Bacon (1995)                    |Comedy|War                                  |5.0   |\n",
            "|Desperado (1995)                         |Action|Romance|Western                      |5.0   |\n",
            "|Billy Madison (1995)                     |Comedy                                      |5.0   |\n",
            "|Dumb & Dumber (Dumb and Dumber) (1994)   |Adventure|Comedy                            |5.0   |\n",
            "|Star Wars: Episode IV - A New Hope (1977)|Action|Adventure|Sci-Fi                     |5.0   |\n",
            "|Tommy Boy (1995)                         |Comedy                                      |5.0   |\n",
            "|Jungle Book, The (1994)                  |Adventure|Children|Romance                  |5.0   |\n",
            "|Fugitive, The (1993)                     |Thriller                                    |5.0   |\n",
            "|Schindler's List (1993)                  |Drama|War                                   |5.0   |\n",
            "|Tombstone (1993)                         |Action|Drama|Western                        |5.0   |\n",
            "|Pinocchio (1940)                         |Animation|Children|Fantasy|Musical          |5.0   |\n",
            "|Fargo (1996)                             |Comedy|Crime|Drama|Thriller                 |5.0   |\n",
            "|James and the Giant Peach (1996)         |Adventure|Animation|Children|Fantasy|Musical|5.0   |\n",
            "|Wizard of Oz, The (1939)                 |Adventure|Children|Fantasy|Musical          |5.0   |\n",
            "|Citizen Kane (1941)                      |Drama|Mystery                               |5.0   |\n",
            "|Adventures of Robin Hood, The (1938)     |Action|Adventure|Romance                    |5.0   |\n",
            "+-----------------------------------------+--------------------------------------------+------+\n",
            "only showing top 20 rows\n",
            "\n"
          ],
          "name": "stdout"
        }
      ]
    },
    {
      "cell_type": "code",
      "metadata": {
        "id": "MxfqfnlBC94M",
        "colab": {
          "base_uri": "https://localhost:8080/"
        },
        "outputId": "caaf27a2-301d-498f-b1fe-98c943f6dcf4"
      },
      "source": [
        "df_movies_ratings\\\n",
        "    .select(\"title\",\"genres\",\"rating\")\\\n",
        "    .orderBy(\"rating\").show(truncate=False)"
      ],
      "execution_count": 154,
      "outputs": [
        {
          "output_type": "stream",
          "text": [
            "+---------------------------------------------------+----------------------------------------+------+\n",
            "|title                                              |genres                                  |rating|\n",
            "+---------------------------------------------------+----------------------------------------+------+\n",
            "|As Good as It Gets (1997)                          |Comedy|Drama|Romance                    |0.5   |\n",
            "|Joy Ride (2001)                                    |Adventure|Thriller                      |0.5   |\n",
            "|Pearl Harbor (2001)                                |Action|Drama|Romance|War                |0.5   |\n",
            "|Requiem for a Dream (2000)                         |Drama                                   |0.5   |\n",
            "|Star Wars: Episode II - Attack of the Clones (2002)|Action|Adventure|Sci-Fi|IMAX            |0.5   |\n",
            "|Snow Dogs (2002)                                   |Adventure|Children|Comedy               |0.5   |\n",
            "|Hulk (2003)                                        |Action|Adventure|Sci-Fi                 |0.5   |\n",
            "|Schindler's List (1993)                            |Drama|War                               |0.5   |\n",
            "|Lady in the Water (2006)                           |Drama|Fantasy|Mystery                   |0.5   |\n",
            "|Operation Dumbo Drop (1995)                        |Action|Adventure|Comedy|War             |0.5   |\n",
            "|Holiday, The (2006)                                |Comedy|Romance                          |0.5   |\n",
            "|On Golden Pond (1981)                              |Drama                                   |0.5   |\n",
            "|Mary Poppins (1964)                                |Children|Comedy|Fantasy|Musical         |0.5   |\n",
            "|Patton (1970)                                      |Drama|War                               |0.5   |\n",
            "|Matrix, The (1999)                                 |Action|Sci-Fi|Thriller                  |0.5   |\n",
            "|Bambi (1942)                                       |Animation|Children|Drama                |0.5   |\n",
            "|Sixth Sense, The (1999)                            |Drama|Horror|Mystery                    |0.5   |\n",
            "|Rescuers, The (1977)                               |Adventure|Animation|Children|Crime|Drama|0.5   |\n",
            "|Fight Club (1999)                                  |Action|Crime|Drama|Thriller             |0.5   |\n",
            "|Fast Times at Ridgemont High (1982)                |Comedy|Drama|Romance                    |0.5   |\n",
            "+---------------------------------------------------+----------------------------------------+------+\n",
            "only showing top 20 rows\n",
            "\n"
          ],
          "name": "stdout"
        }
      ]
    },
    {
      "cell_type": "code",
      "metadata": {
        "id": "Ga4D3E6ZDVz6",
        "colab": {
          "base_uri": "https://localhost:8080/"
        },
        "outputId": "fcfe151b-a77c-4af5-e6b7-01ce1172229d"
      },
      "source": [
        "df_movies_ratings\\\n",
        "    .select(\"title\",\"genres\",\"rating\", F.round(F.col(\"rating\"), 1)\\\n",
        "    .alias(\"rating\"))\\\n",
        "    .orderBy(\"rating\", ascending=False).show(truncate=False)"
      ],
      "execution_count": 155,
      "outputs": [
        {
          "output_type": "stream",
          "text": [
            "+-------------------------------------------+--------------------------------------------+------+------+\n",
            "|title                                      |genres                                      |rating|rating|\n",
            "+-------------------------------------------+--------------------------------------------+------+------+\n",
            "|Mr. Smith Goes to Washington (1939)        |Drama                                       |5.0   |5.0   |\n",
            "|Blues Brothers, The (1980)                 |Action|Comedy|Musical                       |5.0   |5.0   |\n",
            "|Winnie the Pooh and the Blustery Day (1968)|Animation|Children|Musical                  |5.0   |5.0   |\n",
            "|Seven (a.k.a. Se7en) (1995)                |Mystery|Thriller                            |5.0   |5.0   |\n",
            "|Three Caballeros, The (1945)               |Animation|Children|Musical                  |5.0   |5.0   |\n",
            "|Bottle Rocket (1996)                       |Adventure|Comedy|Crime|Romance              |5.0   |5.0   |\n",
            "|Sword in the Stone, The (1963)             |Animation|Children|Fantasy|Musical          |5.0   |5.0   |\n",
            "|Canadian Bacon (1995)                      |Comedy|War                                  |5.0   |5.0   |\n",
            "|Dumbo (1941)                               |Animation|Children|Drama|Musical            |5.0   |5.0   |\n",
            "|Billy Madison (1995)                       |Comedy                                      |5.0   |5.0   |\n",
            "|Bedknobs and Broomsticks (1971)            |Adventure|Children|Musical                  |5.0   |5.0   |\n",
            "|Star Wars: Episode IV - A New Hope (1977)  |Action|Adventure|Sci-Fi                     |5.0   |5.0   |\n",
            "|Alice in Wonderland (1951)                 |Adventure|Animation|Children|Fantasy|Musical|5.0   |5.0   |\n",
            "|Fugitive, The (1993)                       |Thriller                                    |5.0   |5.0   |\n",
            "|Ghost and the Darkness, The (1996)         |Action|Adventure                            |5.0   |5.0   |\n",
            "|Tombstone (1993)                           |Action|Drama|Western                        |5.0   |5.0   |\n",
            "|Willy Wonka & the Chocolate Factory (1971) |Children|Comedy|Fantasy|Musical             |5.0   |5.0   |\n",
            "|Fargo (1996)                               |Comedy|Crime|Drama|Thriller                 |5.0   |5.0   |\n",
            "|Monty Python's Life of Brian (1979)        |Comedy                                      |5.0   |5.0   |\n",
            "|Wizard of Oz, The (1939)                   |Adventure|Children|Fantasy|Musical          |5.0   |5.0   |\n",
            "+-------------------------------------------+--------------------------------------------+------+------+\n",
            "only showing top 20 rows\n",
            "\n"
          ],
          "name": "stdout"
        }
      ]
    },
    {
      "cell_type": "code",
      "metadata": {
        "id": "ONbQsoUvEW53",
        "colab": {
          "base_uri": "https://localhost:8080/"
        },
        "outputId": "b9c54a5b-b9a9-4f48-f2f4-b30c05c84dc6"
      },
      "source": [
        "df_movies_ratings\\\n",
        "    .select(\"title\", \"genres\", \"rating\")\\\n",
        "    .filter(F.col(\"genres\")\\\n",
        "    .like(\"%Fantasy%\"))\\\n",
        "    .orderBy(\"rating\", ascending=False)\\\n",
        "    .show(truncate=False)"
      ],
      "execution_count": 156,
      "outputs": [
        {
          "output_type": "stream",
          "text": [
            "+-------------------------------------------+---------------------------------------------------------+------+\n",
            "|title                                      |genres                                                   |rating|\n",
            "+-------------------------------------------+---------------------------------------------------------+------+\n",
            "|Black Cauldron, The (1985)                 |Adventure|Animation|Children|Fantasy                     |5.0   |\n",
            "|Fantasia (1940)                            |Animation|Children|Fantasy|Musical                       |5.0   |\n",
            "|Conan the Barbarian (1982)                 |Action|Adventure|Fantasy                                 |5.0   |\n",
            "|Pinocchio (1940)                           |Animation|Children|Fantasy|Musical                       |5.0   |\n",
            "|Goonies, The (1985)                        |Action|Adventure|Children|Comedy|Fantasy                 |5.0   |\n",
            "|Wizard of Oz, The (1939)                   |Adventure|Children|Fantasy|Musical                       |5.0   |\n",
            "|Indiana Jones and the Temple of Doom (1984)|Action|Adventure|Fantasy                                 |5.0   |\n",
            "|Alice in Wonderland (1951)                 |Adventure|Animation|Children|Fantasy|Musical             |5.0   |\n",
            "|Lord of the Rings, The (1978)              |Adventure|Animation|Children|Fantasy                     |5.0   |\n",
            "|Monty Python and the Holy Grail (1975)     |Adventure|Comedy|Fantasy                                 |5.0   |\n",
            "|NeverEnding Story, The (1984)              |Adventure|Children|Fantasy                               |5.0   |\n",
            "|Highlander (1986)                          |Action|Adventure|Fantasy                                 |5.0   |\n",
            "|Edward Scissorhands (1990)                 |Drama|Fantasy|Romance                                    |5.0   |\n",
            "|Dogma (1999)                               |Adventure|Comedy|Fantasy                                 |5.0   |\n",
            "|Wolf Man, The (1941)                       |Drama|Fantasy|Horror                                     |5.0   |\n",
            "|Sword in the Stone, The (1963)             |Animation|Children|Fantasy|Musical                       |5.0   |\n",
            "|Excalibur (1981)                           |Adventure|Fantasy                                        |5.0   |\n",
            "|Princess Bride, The (1987)                 |Action|Adventure|Comedy|Fantasy|Romance                  |5.0   |\n",
            "|Who Framed Roger Rabbit? (1988)            |Adventure|Animation|Children|Comedy|Crime|Fantasy|Mystery|5.0   |\n",
            "|James and the Giant Peach (1996)           |Adventure|Animation|Children|Fantasy|Musical             |5.0   |\n",
            "+-------------------------------------------+---------------------------------------------------------+------+\n",
            "only showing top 20 rows\n",
            "\n"
          ],
          "name": "stdout"
        }
      ]
    },
    {
      "cell_type": "code",
      "metadata": {
        "id": "AgEwzdr1KLXr",
        "colab": {
          "base_uri": "https://localhost:8080/"
        },
        "outputId": "18a75e35-805b-4d1f-a66e-3902c8a91dba"
      },
      "source": [
        "dimensions = [\"title\",\"genres\",\"rating\"]\n",
        "metrics = [\"rating\"]\n",
        "dim_df_movies_ratings = df_movies_ratings.groupBy(dimensions).count()\n",
        "dim_df_movies_ratings.show()"
      ],
      "execution_count": 157,
      "outputs": [
        {
          "output_type": "stream",
          "text": [
            "+--------------------+--------------------+------+-----+\n",
            "|               title|              genres|rating|count|\n",
            "+--------------------+--------------------+------+-----+\n",
            "|Starship Troopers...|       Action|Sci-Fi|   3.0|   17|\n",
            "|    Hangar 18 (1980)|Action|Sci-Fi|Thr...|   5.0|    1|\n",
            "| Multiplicity (1996)|              Comedy|   2.0|    5|\n",
            "|Seven Samurai (Sh...|Action|Adventure|...|   5.0|   14|\n",
            "|A.I. Artificial I...|Adventure|Drama|S...|   4.5|    3|\n",
            "| Aviator, The (2004)|               Drama|   3.5|    6|\n",
            "|Planes, Trains & ...|              Comedy|   3.5|    3|\n",
            "|Flickering Lights...| Action|Comedy|Crime|   4.5|    1|\n",
            "|    Hitchcock (2012)|               Drama|   3.5|    3|\n",
            "|       Splash (1984)|Comedy|Fantasy|Ro...|   3.0|   14|\n",
            "|Miss Congeniality...|        Comedy|Crime|   3.5|   13|\n",
            "|The Man from U.N....|Action|Adventure|...|   3.5|    5|\n",
            "|French Connection...|Action|Crime|Thri...|   4.5|    5|\n",
            "|      Ben-Hur (1959)|Action|Adventure|...|   4.0|   11|\n",
            "|Hidden Figures (2...|               Drama|   3.0|    1|\n",
            "|Don Camillo in Mo...|              Comedy|   3.0|    1|\n",
            "|Men in Black III ...|Action|Comedy|Sci...|   3.5|    6|\n",
            "|   Flatliners (1990)|Horror|Sci-Fi|Thr...|   4.0|    3|\n",
            "|         Taxi (1998)|       Action|Comedy|   5.0|    1|\n",
            "|Snakes on a Plane...|Action|Comedy|Hor...|   3.5|    2|\n",
            "+--------------------+--------------------+------+-----+\n",
            "only showing top 20 rows\n",
            "\n"
          ],
          "name": "stdout"
        }
      ]
    },
    {
      "cell_type": "code",
      "metadata": {
        "id": "2GJFHGfaKWwY",
        "colab": {
          "base_uri": "https://localhost:8080/"
        },
        "outputId": "b68410bd-9e27-4940-ea98-dd65bc3fba68"
      },
      "source": [
        "groupby_genres = df_movies_ratings.groupBy(\"genres\").count()\n",
        "groupby_genres.show()"
      ],
      "execution_count": 158,
      "outputs": [
        {
          "output_type": "stream",
          "text": [
            "+--------------------+-----+\n",
            "|              genres|count|\n",
            "+--------------------+-----+\n",
            "|Adventure|Sci-Fi|...|   33|\n",
            "|Comedy|Horror|Thr...|  115|\n",
            "|Action|Adventure|...|  204|\n",
            "| Action|Drama|Horror|   20|\n",
            "|Action|Animation|...|    7|\n",
            "|Action|Adventure|...|  479|\n",
            "|    Adventure|Sci-Fi|  128|\n",
            "|Animation|Childre...|  115|\n",
            "|Adventure|Childre...|    2|\n",
            "|Documentary|Music...|    1|\n",
            "| Adventure|Animation|    2|\n",
            "| Musical|Romance|War|    9|\n",
            "|Comedy|Crime|Horr...|    2|\n",
            "|Adventure|Childre...|   17|\n",
            "|Crime|Drama|Fanta...|    3|\n",
            "|Action|Adventure|...|    9|\n",
            "|   Adventure|Fantasy|  584|\n",
            "|Comedy|Mystery|Th...|   47|\n",
            "|Horror|Romance|Sc...|    1|\n",
            "|Drama|Film-Noir|R...|   33|\n",
            "+--------------------+-----+\n",
            "only showing top 20 rows\n",
            "\n"
          ],
          "name": "stdout"
        }
      ]
    },
    {
      "cell_type": "markdown",
      "metadata": {
        "id": "HDXg4b1SFlIu"
      },
      "source": [
        "## **4.0. Análise Exploratória de Dados com Koalas**\n",
        "\n",
        "O **Koalas** é um projeto de código aberto que fornece uma substituição de lista de entrega para o Pandas. Amplamente utilizado em Data Science, o Pandas é um pacote python que fornece estruturas de dados fáceis de usar e ferramentas de análise de dados para a linguagem de programação Python. No entanto, o Pandas não é escalado para Big Data. O Koalas preenche essa lacuna fornecendo APIs equivalentes do Pandas que funcionam em Apache Spark. O Koalas é útil não apenas para usuários pandas, mas também para usuários PySpark, porque o Koalas dá suporte a muitas tarefas difíceis de fazer com o PySpark, por exemplo, plotando dados diretamente de um DataFrame pySpark.\n",
        "\n",
        "\n",
        "<center>\n",
        "<img class=\"one\" src=\"https://databricks.com/wp-content/uploads/2020/08/Koalas-logo-og.png\"  height=\"150\"><br>\n",
        "</center>"
      ]
    },
    {
      "cell_type": "code",
      "metadata": {
        "id": "udW0jEJAFqBk"
      },
      "source": [
        "dfRatingsKdf = df_ratings.to_koalas()"
      ],
      "execution_count": 159,
      "outputs": []
    },
    {
      "cell_type": "markdown",
      "metadata": {
        "id": "XJR5dn0HYO5t"
      },
      "source": [
        "### **Quantas avaliações existem neste dataset?**\n",
        "\n",
        "Existem diversas formas de descobrir quantas avaliações existem, e uma delas é pedir o formato da tabela. Para responder essa questão basta utilizar o `shape()` e descobrimos então que estamos trabalhando com um conjunto de dados de dimensão 100836x5, ou seja, há 100836 avaliações e 4 colunas. O contador à esquerda, na tabela, será denominado índice, que não consideramos como sendo uma coluna."
      ]
    },
    {
      "cell_type": "code",
      "metadata": {
        "colab": {
          "base_uri": "https://localhost:8080/"
        },
        "id": "WAeyplakYt7c",
        "outputId": "c53a5b5f-9595-41cf-a2e2-a1cbb300f610"
      },
      "source": [
        "dfRatingsKdf.shape"
      ],
      "execution_count": 160,
      "outputs": [
        {
          "output_type": "execute_result",
          "data": {
            "text/plain": [
              "(100836, 5)"
            ]
          },
          "metadata": {
            "tags": []
          },
          "execution_count": 160
        }
      ]
    },
    {
      "cell_type": "markdown",
      "metadata": {
        "id": "pPT94xsJZEth"
      },
      "source": [
        "### **Qual é a variação das notas dos filmes?**\n",
        "\n",
        "Podemos ainda descobrir os valores únicos associados às notas dos filmes, utilizando o `unique()`. As notas, portanto, variam de 0.5 a 5, e a nota 0 não foi dada em nenhum momento. "
      ]
    },
    {
      "cell_type": "code",
      "metadata": {
        "colab": {
          "base_uri": "https://localhost:8080/"
        },
        "id": "91j3anfIZLmO",
        "outputId": "1cd0ff20-6bf3-4642-dda4-f695f1ce8eac"
      },
      "source": [
        "dfRatingsKdf['rating'].unique()"
      ],
      "execution_count": 161,
      "outputs": [
        {
          "output_type": "execute_result",
          "data": {
            "text/plain": [
              "0    3.5\n",
              "1    4.5\n",
              "2    2.5\n",
              "3    1.0\n",
              "4    4.0\n",
              "5    0.5\n",
              "6    3.0\n",
              "7    2.0\n",
              "8    1.5\n",
              "9    5.0\n",
              "Name: rating, dtype: float64"
            ]
          },
          "metadata": {
            "tags": []
          },
          "execution_count": 161
        }
      ]
    },
    {
      "cell_type": "markdown",
      "metadata": {
        "id": "1dw5gZAsZZET"
      },
      "source": [
        "### **Com que frequência esses notas aparecem?**\n",
        "\n",
        "Se quisermos saber quantas vezes uma nota específica aparece nesta coluna, poderemos usar:"
      ]
    },
    {
      "cell_type": "code",
      "metadata": {
        "colab": {
          "base_uri": "https://localhost:8080/"
        },
        "id": "GpcOFH16ZXeq",
        "outputId": "5e57ef7b-9345-4df9-c02a-8cfb85a33626"
      },
      "source": [
        "dfRatingsKdf['rating'].value_counts()"
      ],
      "execution_count": 162,
      "outputs": [
        {
          "output_type": "execute_result",
          "data": {
            "text/plain": [
              "4.0    26818\n",
              "3.0    20047\n",
              "5.0    13211\n",
              "3.5    13136\n",
              "4.5     8551\n",
              "2.0     7551\n",
              "2.5     5550\n",
              "1.0     2811\n",
              "1.5     1791\n",
              "0.5     1370\n",
              "Name: rating, dtype: int64"
            ]
          },
          "metadata": {
            "tags": []
          },
          "execution_count": 162
        }
      ]
    },
    {
      "cell_type": "markdown",
      "metadata": {
        "id": "EddJO2tjZi3J"
      },
      "source": [
        "Podemos conhecer um pouco mais sobre a distribuição dessas notas com auxílio do **histograma**. Assim poderemos descobrir quantas vezes cada informação aparece nesse conjunto de dados."
      ]
    },
    {
      "cell_type": "code",
      "metadata": {
        "colab": {
          "base_uri": "https://localhost:8080/",
          "height": 0
        },
        "id": "VJAd4ezQZhpv",
        "outputId": "60e780e4-25bd-4a80-c08e-e4fe37ff8739"
      },
      "source": [
        "dfRatingsKdf.rating.plot(kind='hist')"
      ],
      "execution_count": 163,
      "outputs": [
        {
          "output_type": "display_data",
          "data": {
            "text/html": [
              "<html>\n",
              "<head><meta charset=\"utf-8\" /></head>\n",
              "<body>\n",
              "    <div>\n",
              "            <script src=\"https://cdnjs.cloudflare.com/ajax/libs/mathjax/2.7.5/MathJax.js?config=TeX-AMS-MML_SVG\"></script><script type=\"text/javascript\">if (window.MathJax) {MathJax.Hub.Config({SVG: {font: \"STIX-Web\"}});}</script>\n",
              "                <script type=\"text/javascript\">window.PlotlyConfig = {MathJaxConfig: 'local'};</script>\n",
              "        <script src=\"https://cdn.plot.ly/plotly-latest.min.js\"></script>    \n",
              "            <div id=\"942cc636-7cb2-4efd-9200-dc7735e4cb64\" class=\"plotly-graph-div\" style=\"height:525px; width:100%;\"></div>\n",
              "            <script type=\"text/javascript\">\n",
              "                \n",
              "                    window.PLOTLYENV=window.PLOTLYENV || {};\n",
              "                    \n",
              "                if (document.getElementById(\"942cc636-7cb2-4efd-9200-dc7735e4cb64\")) {\n",
              "                    Plotly.newPlot(\n",
              "                        '942cc636-7cb2-4efd-9200-dc7735e4cb64',\n",
              "                        [{\"hovertemplate\": \"variable=rating<br>value=%{text}<br>count=%{y}\", \"name\": \"rating\", \"text\": [\"[0.5, 0.95)\", \"[0.95, 1.4)\", \"[1.4, 1.85)\", \"[1.85, 2.3)\", \"[2.3, 2.75)\", \"[2.75, 3.2)\", \"[3.2, 3.65)\", \"[3.65, 4.1)\", \"[4.1, 4.55)\", \"[4.55, 5.0]\"], \"type\": \"bar\", \"x\": [0.725, 1.1749999999999998, 1.625, 2.075, 2.525, 2.975, 3.425, 3.875, 4.324999999999999, 4.775], \"y\": [1370, 2811, 1791, 7551, 5550, 20047, 13136, 26818, 8551, 13211]}],\n",
              "                        {\"barmode\": \"stack\", \"template\": {\"data\": {\"bar\": [{\"error_x\": {\"color\": \"#2a3f5f\"}, \"error_y\": {\"color\": \"#2a3f5f\"}, \"marker\": {\"line\": {\"color\": \"#E5ECF6\", \"width\": 0.5}}, \"type\": \"bar\"}], \"barpolar\": [{\"marker\": {\"line\": {\"color\": \"#E5ECF6\", \"width\": 0.5}}, \"type\": \"barpolar\"}], \"carpet\": [{\"aaxis\": {\"endlinecolor\": \"#2a3f5f\", \"gridcolor\": \"white\", \"linecolor\": \"white\", \"minorgridcolor\": \"white\", \"startlinecolor\": \"#2a3f5f\"}, \"baxis\": {\"endlinecolor\": \"#2a3f5f\", \"gridcolor\": \"white\", \"linecolor\": \"white\", \"minorgridcolor\": \"white\", \"startlinecolor\": \"#2a3f5f\"}, \"type\": \"carpet\"}], \"choropleth\": [{\"colorbar\": {\"outlinewidth\": 0, \"ticks\": \"\"}, \"type\": \"choropleth\"}], \"contour\": [{\"colorbar\": {\"outlinewidth\": 0, \"ticks\": \"\"}, \"colorscale\": [[0.0, \"#0d0887\"], [0.1111111111111111, \"#46039f\"], [0.2222222222222222, \"#7201a8\"], [0.3333333333333333, \"#9c179e\"], [0.4444444444444444, \"#bd3786\"], [0.5555555555555556, \"#d8576b\"], [0.6666666666666666, \"#ed7953\"], [0.7777777777777778, \"#fb9f3a\"], [0.8888888888888888, \"#fdca26\"], [1.0, \"#f0f921\"]], \"type\": \"contour\"}], \"contourcarpet\": [{\"colorbar\": {\"outlinewidth\": 0, \"ticks\": \"\"}, \"type\": \"contourcarpet\"}], \"heatmap\": [{\"colorbar\": {\"outlinewidth\": 0, \"ticks\": \"\"}, \"colorscale\": [[0.0, \"#0d0887\"], [0.1111111111111111, \"#46039f\"], [0.2222222222222222, \"#7201a8\"], [0.3333333333333333, \"#9c179e\"], [0.4444444444444444, \"#bd3786\"], [0.5555555555555556, \"#d8576b\"], [0.6666666666666666, \"#ed7953\"], [0.7777777777777778, \"#fb9f3a\"], [0.8888888888888888, \"#fdca26\"], [1.0, \"#f0f921\"]], \"type\": \"heatmap\"}], \"heatmapgl\": [{\"colorbar\": {\"outlinewidth\": 0, \"ticks\": \"\"}, \"colorscale\": [[0.0, \"#0d0887\"], [0.1111111111111111, \"#46039f\"], [0.2222222222222222, \"#7201a8\"], [0.3333333333333333, \"#9c179e\"], [0.4444444444444444, \"#bd3786\"], [0.5555555555555556, \"#d8576b\"], [0.6666666666666666, \"#ed7953\"], [0.7777777777777778, \"#fb9f3a\"], [0.8888888888888888, \"#fdca26\"], [1.0, \"#f0f921\"]], \"type\": \"heatmapgl\"}], \"histogram\": [{\"marker\": {\"colorbar\": {\"outlinewidth\": 0, \"ticks\": \"\"}}, \"type\": \"histogram\"}], \"histogram2d\": [{\"colorbar\": {\"outlinewidth\": 0, \"ticks\": \"\"}, \"colorscale\": [[0.0, \"#0d0887\"], [0.1111111111111111, \"#46039f\"], [0.2222222222222222, \"#7201a8\"], [0.3333333333333333, \"#9c179e\"], [0.4444444444444444, \"#bd3786\"], [0.5555555555555556, \"#d8576b\"], [0.6666666666666666, \"#ed7953\"], [0.7777777777777778, \"#fb9f3a\"], [0.8888888888888888, \"#fdca26\"], [1.0, \"#f0f921\"]], \"type\": \"histogram2d\"}], \"histogram2dcontour\": [{\"colorbar\": {\"outlinewidth\": 0, \"ticks\": \"\"}, \"colorscale\": [[0.0, \"#0d0887\"], [0.1111111111111111, \"#46039f\"], [0.2222222222222222, \"#7201a8\"], [0.3333333333333333, \"#9c179e\"], [0.4444444444444444, \"#bd3786\"], [0.5555555555555556, \"#d8576b\"], [0.6666666666666666, \"#ed7953\"], [0.7777777777777778, \"#fb9f3a\"], [0.8888888888888888, \"#fdca26\"], [1.0, \"#f0f921\"]], \"type\": \"histogram2dcontour\"}], \"mesh3d\": [{\"colorbar\": {\"outlinewidth\": 0, \"ticks\": \"\"}, \"type\": \"mesh3d\"}], \"parcoords\": [{\"line\": {\"colorbar\": {\"outlinewidth\": 0, \"ticks\": \"\"}}, \"type\": \"parcoords\"}], \"pie\": [{\"automargin\": true, \"type\": \"pie\"}], \"scatter\": [{\"marker\": {\"colorbar\": {\"outlinewidth\": 0, \"ticks\": \"\"}}, \"type\": \"scatter\"}], \"scatter3d\": [{\"line\": {\"colorbar\": {\"outlinewidth\": 0, \"ticks\": \"\"}}, \"marker\": {\"colorbar\": {\"outlinewidth\": 0, \"ticks\": \"\"}}, \"type\": \"scatter3d\"}], \"scattercarpet\": [{\"marker\": {\"colorbar\": {\"outlinewidth\": 0, \"ticks\": \"\"}}, \"type\": \"scattercarpet\"}], \"scattergeo\": [{\"marker\": {\"colorbar\": {\"outlinewidth\": 0, \"ticks\": \"\"}}, \"type\": \"scattergeo\"}], \"scattergl\": [{\"marker\": {\"colorbar\": {\"outlinewidth\": 0, \"ticks\": \"\"}}, \"type\": \"scattergl\"}], \"scattermapbox\": [{\"marker\": {\"colorbar\": {\"outlinewidth\": 0, \"ticks\": \"\"}}, \"type\": \"scattermapbox\"}], \"scatterpolar\": [{\"marker\": {\"colorbar\": {\"outlinewidth\": 0, \"ticks\": \"\"}}, \"type\": \"scatterpolar\"}], \"scatterpolargl\": [{\"marker\": {\"colorbar\": {\"outlinewidth\": 0, \"ticks\": \"\"}}, \"type\": \"scatterpolargl\"}], \"scatterternary\": [{\"marker\": {\"colorbar\": {\"outlinewidth\": 0, \"ticks\": \"\"}}, \"type\": \"scatterternary\"}], \"surface\": [{\"colorbar\": {\"outlinewidth\": 0, \"ticks\": \"\"}, \"colorscale\": [[0.0, \"#0d0887\"], [0.1111111111111111, \"#46039f\"], [0.2222222222222222, \"#7201a8\"], [0.3333333333333333, \"#9c179e\"], [0.4444444444444444, \"#bd3786\"], [0.5555555555555556, \"#d8576b\"], [0.6666666666666666, \"#ed7953\"], [0.7777777777777778, \"#fb9f3a\"], [0.8888888888888888, \"#fdca26\"], [1.0, \"#f0f921\"]], \"type\": \"surface\"}], \"table\": [{\"cells\": {\"fill\": {\"color\": \"#EBF0F8\"}, \"line\": {\"color\": \"white\"}}, \"header\": {\"fill\": {\"color\": \"#C8D4E3\"}, \"line\": {\"color\": \"white\"}}, \"type\": \"table\"}]}, \"layout\": {\"annotationdefaults\": {\"arrowcolor\": \"#2a3f5f\", \"arrowhead\": 0, \"arrowwidth\": 1}, \"coloraxis\": {\"colorbar\": {\"outlinewidth\": 0, \"ticks\": \"\"}}, \"colorscale\": {\"diverging\": [[0, \"#8e0152\"], [0.1, \"#c51b7d\"], [0.2, \"#de77ae\"], [0.3, \"#f1b6da\"], [0.4, \"#fde0ef\"], [0.5, \"#f7f7f7\"], [0.6, \"#e6f5d0\"], [0.7, \"#b8e186\"], [0.8, \"#7fbc41\"], [0.9, \"#4d9221\"], [1, \"#276419\"]], \"sequential\": [[0.0, \"#0d0887\"], [0.1111111111111111, \"#46039f\"], [0.2222222222222222, \"#7201a8\"], [0.3333333333333333, \"#9c179e\"], [0.4444444444444444, \"#bd3786\"], [0.5555555555555556, \"#d8576b\"], [0.6666666666666666, \"#ed7953\"], [0.7777777777777778, \"#fb9f3a\"], [0.8888888888888888, \"#fdca26\"], [1.0, \"#f0f921\"]], \"sequentialminus\": [[0.0, \"#0d0887\"], [0.1111111111111111, \"#46039f\"], [0.2222222222222222, \"#7201a8\"], [0.3333333333333333, \"#9c179e\"], [0.4444444444444444, \"#bd3786\"], [0.5555555555555556, \"#d8576b\"], [0.6666666666666666, \"#ed7953\"], [0.7777777777777778, \"#fb9f3a\"], [0.8888888888888888, \"#fdca26\"], [1.0, \"#f0f921\"]]}, \"colorway\": [\"#636efa\", \"#EF553B\", \"#00cc96\", \"#ab63fa\", \"#FFA15A\", \"#19d3f3\", \"#FF6692\", \"#B6E880\", \"#FF97FF\", \"#FECB52\"], \"font\": {\"color\": \"#2a3f5f\"}, \"geo\": {\"bgcolor\": \"white\", \"lakecolor\": \"white\", \"landcolor\": \"#E5ECF6\", \"showlakes\": true, \"showland\": true, \"subunitcolor\": \"white\"}, \"hoverlabel\": {\"align\": \"left\"}, \"hovermode\": \"closest\", \"mapbox\": {\"style\": \"light\"}, \"paper_bgcolor\": \"white\", \"plot_bgcolor\": \"#E5ECF6\", \"polar\": {\"angularaxis\": {\"gridcolor\": \"white\", \"linecolor\": \"white\", \"ticks\": \"\"}, \"bgcolor\": \"#E5ECF6\", \"radialaxis\": {\"gridcolor\": \"white\", \"linecolor\": \"white\", \"ticks\": \"\"}}, \"scene\": {\"xaxis\": {\"backgroundcolor\": \"#E5ECF6\", \"gridcolor\": \"white\", \"gridwidth\": 2, \"linecolor\": \"white\", \"showbackground\": true, \"ticks\": \"\", \"zerolinecolor\": \"white\"}, \"yaxis\": {\"backgroundcolor\": \"#E5ECF6\", \"gridcolor\": \"white\", \"gridwidth\": 2, \"linecolor\": \"white\", \"showbackground\": true, \"ticks\": \"\", \"zerolinecolor\": \"white\"}, \"zaxis\": {\"backgroundcolor\": \"#E5ECF6\", \"gridcolor\": \"white\", \"gridwidth\": 2, \"linecolor\": \"white\", \"showbackground\": true, \"ticks\": \"\", \"zerolinecolor\": \"white\"}}, \"shapedefaults\": {\"line\": {\"color\": \"#2a3f5f\"}}, \"ternary\": {\"aaxis\": {\"gridcolor\": \"white\", \"linecolor\": \"white\", \"ticks\": \"\"}, \"baxis\": {\"gridcolor\": \"white\", \"linecolor\": \"white\", \"ticks\": \"\"}, \"bgcolor\": \"#E5ECF6\", \"caxis\": {\"gridcolor\": \"white\", \"linecolor\": \"white\", \"ticks\": \"\"}}, \"title\": {\"x\": 0.05}, \"xaxis\": {\"automargin\": true, \"gridcolor\": \"white\", \"linecolor\": \"white\", \"ticks\": \"\", \"title\": {\"standoff\": 15}, \"zerolinecolor\": \"white\", \"zerolinewidth\": 2}, \"yaxis\": {\"automargin\": true, \"gridcolor\": \"white\", \"linecolor\": \"white\", \"ticks\": \"\", \"title\": {\"standoff\": 15}, \"zerolinecolor\": \"white\", \"zerolinewidth\": 2}}}, \"xaxis\": {\"title\": {\"text\": \"value\"}}, \"yaxis\": {\"title\": {\"text\": \"count\"}}},\n",
              "                        {\"responsive\": true}\n",
              "                    ).then(function(){\n",
              "                            \n",
              "var gd = document.getElementById('942cc636-7cb2-4efd-9200-dc7735e4cb64');\n",
              "var x = new MutationObserver(function (mutations, observer) {{\n",
              "        var display = window.getComputedStyle(gd).display;\n",
              "        if (!display || display === 'none') {{\n",
              "            console.log([gd, 'removed!']);\n",
              "            Plotly.purge(gd);\n",
              "            observer.disconnect();\n",
              "        }}\n",
              "}});\n",
              "\n",
              "// Listen for the removal of the full notebook cells\n",
              "var notebookContainer = gd.closest('#notebook-container');\n",
              "if (notebookContainer) {{\n",
              "    x.observe(notebookContainer, {childList: true});\n",
              "}}\n",
              "\n",
              "// Listen for the clearing of the current output cell\n",
              "var outputEl = gd.closest('.output');\n",
              "if (outputEl) {{\n",
              "    x.observe(outputEl, {childList: true});\n",
              "}}\n",
              "\n",
              "                        })\n",
              "                };\n",
              "                \n",
              "            </script>\n",
              "        </div>\n",
              "</body>\n",
              "</html>"
            ]
          },
          "metadata": {
            "tags": []
          }
        }
      ]
    },
    {
      "cell_type": "markdown",
      "metadata": {
        "id": "qdtlR4YAZt69"
      },
      "source": [
        "Analisando o histograma, perceberemos que 4 foi a que apareceu com mais frequência, sendo que a nota 5 apareceu diversas vezes e a nota 4,5 nem tantas; a nota 4 é a que mais apareceu.\n",
        "\n",
        "Vamos supor agora que metade das notas do nosso conjunto são maiores que 3, e a outra metade são menores. Mas e se quiséssemos saber exatamente qual é o valor que divide nossos dados na metade? Esse valor é a **mediana** (\"median\"). \n",
        "\n",
        "Para efeito de comparação, vamos imprimir tanto a média quanto a mediana na tela."
      ]
    },
    {
      "cell_type": "code",
      "metadata": {
        "colab": {
          "base_uri": "https://localhost:8080/"
        },
        "id": "pEGSKyikZtlo",
        "outputId": "d830b40c-626e-41cb-e21b-776fa8cd1107"
      },
      "source": [
        "print(\"Média\", dfRatingsKdf.rating.mean())\n",
        "print(\"Mediana\", dfRatingsKdf.rating.median())"
      ],
      "execution_count": 164,
      "outputs": [
        {
          "output_type": "stream",
          "text": [
            "Média 3.501556983616962\n",
            "Mediana 3.5\n"
          ],
          "name": "stdout"
        }
      ]
    },
    {
      "cell_type": "markdown",
      "metadata": {
        "id": "xRISpytOZ9nE"
      },
      "source": [
        "Nesse caso, a mediana foi muito próxima da média, mas isso não é uma garantia. É possível, ainda, tirar essas e outras medidas de uma só vez, pedindo o describe() dessa série (ou de um dataframe):"
      ]
    },
    {
      "cell_type": "code",
      "metadata": {
        "colab": {
          "base_uri": "https://localhost:8080/"
        },
        "id": "Q63jibtnZ7qm",
        "outputId": "0e7cbc97-c35c-4b84-b16f-7c5a831e0af9"
      },
      "source": [
        "dfRatingsKdf.rating.describe()"
      ],
      "execution_count": 165,
      "outputs": [
        {
          "output_type": "execute_result",
          "data": {
            "text/plain": [
              "count    100836.000000\n",
              "mean          3.501557\n",
              "std           1.042529\n",
              "min           0.500000\n",
              "25%           3.000000\n",
              "50%           3.500000\n",
              "75%           4.000000\n",
              "max           5.000000\n",
              "Name: rating, dtype: float64"
            ]
          },
          "metadata": {
            "tags": []
          },
          "execution_count": 165
        }
      ]
    },
    {
      "cell_type": "markdown",
      "metadata": {
        "id": "qTWr9GxlaH0s"
      },
      "source": [
        "Saberemos, assim, que temos 100.836 dados; a média das notas é 3.501557; o valor mínimo é 0,5; o máximo é 5; a mediana é 3.5; 25% dos dados (um quartil) estão abaixo de 3; e outros 25% estão acima de 4."
      ]
    },
    {
      "cell_type": "code",
      "metadata": {
        "colab": {
          "base_uri": "https://localhost:8080/",
          "height": 0
        },
        "id": "xIU4NV_4HSH5",
        "outputId": "01160d66-babb-4c6d-8395-3aafe09027a4"
      },
      "source": [
        "%%time\n",
        "movieRatingDistGroup = dfRatingsKdf['rating'].value_counts() \\\n",
        "                                             .sort_index() \\\n",
        "                                             .reset_index() \\\n",
        "                                             .to_pandas()\n",
        "\n",
        "# Criando uma figura Matplotlib\n",
        "fig, ax = plt.subplots(figsize=(12,6))\n",
        "\n",
        "# Figura Principal: Seaborn Barplot\n",
        "sns.barplot(data=movieRatingDistGroup, x='index', y='rating',\n",
        "            palette='RdYlGn', edgecolor=\"black\", ax=ax)\n",
        "\n",
        "# Configurando o eixo X e Y\n",
        "ax.set_xlabel(\"User-Movie Ratings\")\n",
        "ax.set_ylabel('Nb. of Users')\n",
        "ax.xaxis.set_tick_params(rotation=45)\n",
        "\n",
        "# Separador no eixo y\n",
        "ax.set_yticklabels(['{:,}'.format(int(x)) for x in ax.get_yticks().tolist()])\n",
        "\n",
        "# Adicionando o texto de porcentagem em cima de cada barra\n",
        "total = float(movieRatingDistGroup['rating'].sum())\n",
        "for p in ax.patches:\n",
        "    height = p.get_height()\n",
        "    ax.text(p.get_x()+p.get_width()/2.,\n",
        "            height+350,\n",
        "            '{0:.0%}'.format(height/total),\n",
        "            ha=\"center\") \n",
        "\n",
        "# Visualizando o plot\n",
        "plt.show()"
      ],
      "execution_count": 166,
      "outputs": [
        {
          "output_type": "display_data",
          "data": {
            "image/png": "[encoded data removed]",
            "text/plain": [
              "<Figure size 864x432 with 1 Axes>"
            ]
          },
          "metadata": {
            "tags": [],
            "needs_background": "light"
          }
        },
        {
          "output_type": "stream",
          "text": [
            "CPU times: user 251 ms, sys: 12.2 ms, total: 263 ms\n",
            "Wall time: 2.13 s\n"
          ],
          "name": "stdout"
        }
      ]
    },
    {
      "cell_type": "markdown",
      "metadata": {
        "id": "nhWLOhsuBbEe"
      },
      "source": [
        "## **Referências**\n",
        "\n",
        "[Data Science: Primeiros passos](https://github.com/alura-cursos/introducao-a-data-science/)\n",
        "\n",
        "[Designing a Scalable Movie Recommender System with Apache Spark and Google Colab](https://github.com/SJD1882/Big-Data-Recommender-Systems)\n",
        "\n"
      ]
    }
  ]
}