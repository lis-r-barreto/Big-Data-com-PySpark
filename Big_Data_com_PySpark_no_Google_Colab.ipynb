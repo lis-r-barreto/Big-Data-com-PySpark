{
  "nbformat": 4,
  "nbformat_minor": 0,
  "metadata": {
    "colab": {
      "name": "Big Data com PySpark no Google Colab.ipynb",
      "provenance": [],
      "include_colab_link": true
    },
    "kernelspec": {
      "name": "python3",
      "display_name": "Python 3"
    }
  },
  "cells": [
    {
      "cell_type": "markdown",
      "metadata": {
        "id": "view-in-github",
        "colab_type": "text"
      },
      "source": [
        "<a href=\"https://colab.research.google.com/github/lis-r-barreto/Big-Data-com-PySpark/blob/master/Big_Data_com_PySpark_no_Google_Colab.ipynb\" target=\"_parent\"><img src=\"https://colab.research.google.com/assets/colab-badge.svg\" alt=\"Open In Colab\"/></a>"
      ]
    },
    {
      "cell_type": "markdown",
      "metadata": {
        "id": "iRMmNTO_8uPL"
      },
      "source": [
        "# **Analisando os Dados do MovieLens 🎬**\n",
        "## **Contexto 🎞️**\n",
        "\n",
        "<center>\n",
        "<img src=\"https://s3-us-west-2.amazonaws.com/flx-editorial-wordpress/wp-content/uploads/2018/03/13153742/RT_300EssentialMovies_700X250.jpg\" alt=\"Posters de filmes\" width=\"50%\"/>\n",
        "</center> \n",
        "\n",
        "O **MovieLens** é um sistema de recomendação e comunidade virtual baseado na Web que recomenda filmes para os usuários assistirem, com base em suas preferências de filme usando filtro colaborativo das classificações e críticas de filmes dos membros. \n",
        "\n",
        "#### **O objetivo dessa análise é explorar dois conjuntos de dados do MovieLens que contém informações sobre diversos filmes e a partir dessas informações extrair insights.**\n",
        "\n",
        "## **Big Data com PySpark**\n",
        "\n",
        "<center>\n",
        "<img class=\"one\" src=\"https://aprendizadodemaquina.com/media/filer_public_thumbnails/filer_public/3a/65/3a658469-383e-4c1d-b4fb-502229858579/pyspark.png__800x450_q85_crop_subsampling-2.png\"  height=\"150\"><br>\n",
        "</center>\n",
        "\n",
        "A biblioteca PySpark permite você criar seu servidor Apache Spark, trabalhar com grandes volumes de dados e até mesmo fazer streaming em tempo real."
      ]
    },
    {
      "cell_type": "markdown",
      "metadata": {
        "id": "pci_oK13fzX0"
      },
      "source": [
        "## **1.0. Configurações 🛠️**\n",
        "\n",
        "<center>\n",
        "<img src=\"https://1.bp.blogspot.com/-SJ9kDlUd5qo/Xuo_0lQytwI/AAAAAAACK4M/J4miSQMT1OsJT5XMG9Au5DfiO_fd18kfgCLcBGAsYHQ/s1600/b1d5c4ae072a7173830c7c17690ed2c9.gif\" alt=\"Cena do filmes Tempos Modernos com Charles Chaplin nas engrenagens\" width=\"400\"/>\n",
        "</center>"
      ]
    },
    {
      "cell_type": "code",
      "metadata": {
        "id": "Oz_8sWI7PKEl",
        "colab": {
          "base_uri": "https://localhost:8080/"
        },
        "outputId": "c84f7541-cde4-4637-e557-723ed51e82a7"
      },
      "source": [
        "# Instalando as dependências\n",
        "!apt-get install openjdk-8-jdk-headless -qq > /dev/null\n",
        "!wget -q https://archive.apache.org/dist/spark/spark-2.4.4/spark-2.4.4-bin-hadoop2.7.tgz\n",
        "!tar xf spark-2.4.4-bin-hadoop2.7.tgz\n",
        "!pip install -q findspark\n",
        "!pip install koalas"
      ],
      "execution_count": 17,
      "outputs": [
        {
          "output_type": "stream",
          "text": [
            "Collecting koalas\n",
            "\u001b[?25l  Downloading https://files.pythonhosted.org/packages/1e/72/4048c6965c4c923bd88e82d0748eeed5bc02c74cf36d88645d974367e3b3/koalas-1.8.1-py3-none-any.whl (1.4MB)\n",
            "\r\u001b[K     |▎                               | 10kB 13.2MB/s eta 0:00:01\r\u001b[K     |▌                               | 20kB 16.0MB/s eta 0:00:01\r\u001b[K     |▊                               | 30kB 18.1MB/s eta 0:00:01\r\u001b[K     |█                               | 40kB 19.8MB/s eta 0:00:01\r\u001b[K     |█▏                              | 51kB 20.4MB/s eta 0:00:01\r\u001b[K     |█▍                              | 61kB 21.5MB/s eta 0:00:01\r\u001b[K     |█▊                              | 71kB 22.2MB/s eta 0:00:01\r\u001b[K     |██                              | 81kB 23.6MB/s eta 0:00:01\r\u001b[K     |██▏                             | 92kB 23.6MB/s eta 0:00:01\r\u001b[K     |██▍                             | 102kB 24.8MB/s eta 0:00:01\r\u001b[K     |██▋                             | 112kB 24.8MB/s eta 0:00:01\r\u001b[K     |██▉                             | 122kB 24.8MB/s eta 0:00:01\r\u001b[K     |███▏                            | 133kB 24.8MB/s eta 0:00:01\r\u001b[K     |███▍                            | 143kB 24.8MB/s eta 0:00:01\r\u001b[K     |███▋                            | 153kB 24.8MB/s eta 0:00:01\r\u001b[K     |███▉                            | 163kB 24.8MB/s eta 0:00:01\r\u001b[K     |████                            | 174kB 24.8MB/s eta 0:00:01\r\u001b[K     |████▎                           | 184kB 24.8MB/s eta 0:00:01\r\u001b[K     |████▋                           | 194kB 24.8MB/s eta 0:00:01\r\u001b[K     |████▉                           | 204kB 24.8MB/s eta 0:00:01\r\u001b[K     |█████                           | 215kB 24.8MB/s eta 0:00:01\r\u001b[K     |█████▎                          | 225kB 24.8MB/s eta 0:00:01\r\u001b[K     |█████▌                          | 235kB 24.8MB/s eta 0:00:01\r\u001b[K     |█████▊                          | 245kB 24.8MB/s eta 0:00:01\r\u001b[K     |██████                          | 256kB 24.8MB/s eta 0:00:01\r\u001b[K     |██████▎                         | 266kB 24.8MB/s eta 0:00:01\r\u001b[K     |██████▌                         | 276kB 24.8MB/s eta 0:00:01\r\u001b[K     |██████▊                         | 286kB 24.8MB/s eta 0:00:01\r\u001b[K     |███████                         | 296kB 24.8MB/s eta 0:00:01\r\u001b[K     |███████▏                        | 307kB 24.8MB/s eta 0:00:01\r\u001b[K     |███████▌                        | 317kB 24.8MB/s eta 0:00:01\r\u001b[K     |███████▊                        | 327kB 24.8MB/s eta 0:00:01\r\u001b[K     |████████                        | 337kB 24.8MB/s eta 0:00:01\r\u001b[K     |████████▏                       | 348kB 24.8MB/s eta 0:00:01\r\u001b[K     |████████▍                       | 358kB 24.8MB/s eta 0:00:01\r\u001b[K     |████████▋                       | 368kB 24.8MB/s eta 0:00:01\r\u001b[K     |█████████                       | 378kB 24.8MB/s eta 0:00:01\r\u001b[K     |█████████▏                      | 389kB 24.8MB/s eta 0:00:01\r\u001b[K     |█████████▍                      | 399kB 24.8MB/s eta 0:00:01\r\u001b[K     |█████████▋                      | 409kB 24.8MB/s eta 0:00:01\r\u001b[K     |█████████▉                      | 419kB 24.8MB/s eta 0:00:01\r\u001b[K     |██████████                      | 430kB 24.8MB/s eta 0:00:01\r\u001b[K     |██████████▍                     | 440kB 24.8MB/s eta 0:00:01\r\u001b[K     |██████████▋                     | 450kB 24.8MB/s eta 0:00:01\r\u001b[K     |██████████▉                     | 460kB 24.8MB/s eta 0:00:01\r\u001b[K     |███████████                     | 471kB 24.8MB/s eta 0:00:01\r\u001b[K     |███████████▎                    | 481kB 24.8MB/s eta 0:00:01\r\u001b[K     |███████████▌                    | 491kB 24.8MB/s eta 0:00:01\r\u001b[K     |███████████▉                    | 501kB 24.8MB/s eta 0:00:01\r\u001b[K     |████████████                    | 512kB 24.8MB/s eta 0:00:01\r\u001b[K     |████████████▎                   | 522kB 24.8MB/s eta 0:00:01\r\u001b[K     |████████████▌                   | 532kB 24.8MB/s eta 0:00:01\r\u001b[K     |████████████▊                   | 542kB 24.8MB/s eta 0:00:01\r\u001b[K     |█████████████                   | 552kB 24.8MB/s eta 0:00:01\r\u001b[K     |█████████████▎                  | 563kB 24.8MB/s eta 0:00:01\r\u001b[K     |█████████████▌                  | 573kB 24.8MB/s eta 0:00:01\r\u001b[K     |█████████████▊                  | 583kB 24.8MB/s eta 0:00:01\r\u001b[K     |██████████████                  | 593kB 24.8MB/s eta 0:00:01\r\u001b[K     |██████████████▏                 | 604kB 24.8MB/s eta 0:00:01\r\u001b[K     |██████████████▍                 | 614kB 24.8MB/s eta 0:00:01\r\u001b[K     |██████████████▊                 | 624kB 24.8MB/s eta 0:00:01\r\u001b[K     |███████████████                 | 634kB 24.8MB/s eta 0:00:01\r\u001b[K     |███████████████▏                | 645kB 24.8MB/s eta 0:00:01\r\u001b[K     |███████████████▍                | 655kB 24.8MB/s eta 0:00:01\r\u001b[K     |███████████████▋                | 665kB 24.8MB/s eta 0:00:01\r\u001b[K     |███████████████▉                | 675kB 24.8MB/s eta 0:00:01\r\u001b[K     |████████████████▏               | 686kB 24.8MB/s eta 0:00:01\r\u001b[K     |████████████████▍               | 696kB 24.8MB/s eta 0:00:01\r\u001b[K     |████████████████▋               | 706kB 24.8MB/s eta 0:00:01\r\u001b[K     |████████████████▉               | 716kB 24.8MB/s eta 0:00:01\r\u001b[K     |█████████████████               | 727kB 24.8MB/s eta 0:00:01\r\u001b[K     |█████████████████▎              | 737kB 24.8MB/s eta 0:00:01\r\u001b[K     |█████████████████▋              | 747kB 24.8MB/s eta 0:00:01\r\u001b[K     |█████████████████▉              | 757kB 24.8MB/s eta 0:00:01\r\u001b[K     |██████████████████              | 768kB 24.8MB/s eta 0:00:01\r\u001b[K     |██████████████████▎             | 778kB 24.8MB/s eta 0:00:01\r\u001b[K     |██████████████████▌             | 788kB 24.8MB/s eta 0:00:01\r\u001b[K     |██████████████████▊             | 798kB 24.8MB/s eta 0:00:01\r\u001b[K     |███████████████████             | 808kB 24.8MB/s eta 0:00:01\r\u001b[K     |███████████████████▎            | 819kB 24.8MB/s eta 0:00:01\r\u001b[K     |███████████████████▌            | 829kB 24.8MB/s eta 0:00:01\r\u001b[K     |███████████████████▊            | 839kB 24.8MB/s eta 0:00:01\r\u001b[K     |████████████████████            | 849kB 24.8MB/s eta 0:00:01\r\u001b[K     |████████████████████▏           | 860kB 24.8MB/s eta 0:00:01\r\u001b[K     |████████████████████▌           | 870kB 24.8MB/s eta 0:00:01\r\u001b[K     |████████████████████▊           | 880kB 24.8MB/s eta 0:00:01\r\u001b[K     |█████████████████████           | 890kB 24.8MB/s eta 0:00:01\r\u001b[K     |█████████████████████▏          | 901kB 24.8MB/s eta 0:00:01\r\u001b[K     |█████████████████████▍          | 911kB 24.8MB/s eta 0:00:01\r\u001b[K     |█████████████████████▋          | 921kB 24.8MB/s eta 0:00:01\r\u001b[K     |██████████████████████          | 931kB 24.8MB/s eta 0:00:01\r\u001b[K     |██████████████████████▏         | 942kB 24.8MB/s eta 0:00:01\r\u001b[K     |██████████████████████▍         | 952kB 24.8MB/s eta 0:00:01\r\u001b[K     |██████████████████████▋         | 962kB 24.8MB/s eta 0:00:01\r\u001b[K     |██████████████████████▉         | 972kB 24.8MB/s eta 0:00:01\r\u001b[K     |███████████████████████         | 983kB 24.8MB/s eta 0:00:01\r\u001b[K     |███████████████████████▍        | 993kB 24.8MB/s eta 0:00:01\r\u001b[K     |███████████████████████▋        | 1.0MB 24.8MB/s eta 0:00:01\r\u001b[K     |███████████████████████▉        | 1.0MB 24.8MB/s eta 0:00:01\r\u001b[K     |████████████████████████        | 1.0MB 24.8MB/s eta 0:00:01\r\u001b[K     |████████████████████████▎       | 1.0MB 24.8MB/s eta 0:00:01\r\u001b[K     |████████████████████████▌       | 1.0MB 24.8MB/s eta 0:00:01\r\u001b[K     |████████████████████████▉       | 1.1MB 24.8MB/s eta 0:00:01\r\u001b[K     |█████████████████████████       | 1.1MB 24.8MB/s eta 0:00:01\r\u001b[K     |█████████████████████████▎      | 1.1MB 24.8MB/s eta 0:00:01\r\u001b[K     |█████████████████████████▌      | 1.1MB 24.8MB/s eta 0:00:01\r\u001b[K     |█████████████████████████▊      | 1.1MB 24.8MB/s eta 0:00:01\r\u001b[K     |██████████████████████████      | 1.1MB 24.8MB/s eta 0:00:01\r\u001b[K     |██████████████████████████▎     | 1.1MB 24.8MB/s eta 0:00:01\r\u001b[K     |██████████████████████████▌     | 1.1MB 24.8MB/s eta 0:00:01\r\u001b[K     |██████████████████████████▊     | 1.1MB 24.8MB/s eta 0:00:01\r\u001b[K     |███████████████████████████     | 1.1MB 24.8MB/s eta 0:00:01\r\u001b[K     |███████████████████████████▏    | 1.2MB 24.8MB/s eta 0:00:01\r\u001b[K     |███████████████████████████▍    | 1.2MB 24.8MB/s eta 0:00:01\r\u001b[K     |███████████████████████████▊    | 1.2MB 24.8MB/s eta 0:00:01\r\u001b[K     |████████████████████████████    | 1.2MB 24.8MB/s eta 0:00:01\r\u001b[K     |████████████████████████████▏   | 1.2MB 24.8MB/s eta 0:00:01\r\u001b[K     |████████████████████████████▍   | 1.2MB 24.8MB/s eta 0:00:01\r\u001b[K     |████████████████████████████▋   | 1.2MB 24.8MB/s eta 0:00:01\r\u001b[K     |████████████████████████████▉   | 1.2MB 24.8MB/s eta 0:00:01\r\u001b[K     |█████████████████████████████▏  | 1.2MB 24.8MB/s eta 0:00:01\r\u001b[K     |█████████████████████████████▍  | 1.2MB 24.8MB/s eta 0:00:01\r\u001b[K     |█████████████████████████████▋  | 1.3MB 24.8MB/s eta 0:00:01\r\u001b[K     |█████████████████████████████▉  | 1.3MB 24.8MB/s eta 0:00:01\r\u001b[K     |██████████████████████████████  | 1.3MB 24.8MB/s eta 0:00:01\r\u001b[K     |██████████████████████████████▎ | 1.3MB 24.8MB/s eta 0:00:01\r\u001b[K     |██████████████████████████████▋ | 1.3MB 24.8MB/s eta 0:00:01\r\u001b[K     |██████████████████████████████▉ | 1.3MB 24.8MB/s eta 0:00:01\r\u001b[K     |███████████████████████████████ | 1.3MB 24.8MB/s eta 0:00:01\r\u001b[K     |███████████████████████████████▎| 1.3MB 24.8MB/s eta 0:00:01\r\u001b[K     |███████████████████████████████▌| 1.3MB 24.8MB/s eta 0:00:01\r\u001b[K     |███████████████████████████████▊| 1.4MB 24.8MB/s eta 0:00:01\r\u001b[K     |████████████████████████████████| 1.4MB 24.8MB/s \n",
            "\u001b[?25hRequirement already satisfied: numpy>=1.14 in /usr/local/lib/python3.7/dist-packages (from koalas) (1.19.5)\n",
            "Requirement already satisfied: pandas>=0.23.2 in /usr/local/lib/python3.7/dist-packages (from koalas) (1.1.5)\n",
            "Requirement already satisfied: pyarrow>=0.10 in /usr/local/lib/python3.7/dist-packages (from koalas) (3.0.0)\n",
            "Requirement already satisfied: python-dateutil>=2.7.3 in /usr/local/lib/python3.7/dist-packages (from pandas>=0.23.2->koalas) (2.8.1)\n",
            "Requirement already satisfied: pytz>=2017.2 in /usr/local/lib/python3.7/dist-packages (from pandas>=0.23.2->koalas) (2018.9)\n",
            "Requirement already satisfied: six>=1.5 in /usr/local/lib/python3.7/dist-packages (from python-dateutil>=2.7.3->pandas>=0.23.2->koalas) (1.15.0)\n",
            "Installing collected packages: koalas\n",
            "Successfully installed koalas-1.8.1\n"
          ],
          "name": "stdout"
        }
      ]
    },
    {
      "cell_type": "markdown",
      "metadata": {
        "id": "cabkOXVRPYgq"
      },
      "source": [
        "A próxima etapa é configurar as variáveis de ambiente, pois isso habilita o ambiente do Colab a identificar corretamente onde as dependências estão rodando.\n",
        "\n",
        "Para conseguir “manipular” o terminal e interagir como ele, você pode usar a biblioteca os."
      ]
    },
    {
      "cell_type": "code",
      "metadata": {
        "id": "RkpG11RQPbRf"
      },
      "source": [
        "# Configurando as variáveis de ambiente\n",
        "import os\n",
        "os.environ[\"JAVA_HOME\"] = \"/usr/lib/jvm/java-8-openjdk-amd64\"\n",
        "os.environ[\"SPARK_HOME\"] = \"/content/spark-2.4.4-bin-hadoop2.7\"\n",
        "\n",
        "# Tornando o pyspark \"importável\"\n",
        "import findspark\n",
        "findspark.init('spark-2.4.4-bin-hadoop2.7')\n",
        "\n",
        "\n",
        "# Default Packages (available by Default in Google Colab)\n",
        "import math\n",
        "import numpy as np\n",
        "import pandas as pd\n",
        "import matplotlib.pyplot as plt\n",
        "import matplotlib.ticker as ticker\n",
        "import seaborn as sns\n",
        "import random\n",
        "from pprint import pprint\n",
        "from matplotlib.lines import Line2D\n",
        "\n",
        "# Downloaded Packages (not available by Default)\n",
        "import databricks.koalas\n",
        "\n",
        "# PySpark Utilities\n",
        "import pyspark.sql.functions as F\n",
        "from pyspark.sql.types import *"
      ],
      "execution_count": 21,
      "outputs": []
    },
    {
      "cell_type": "markdown",
      "metadata": {
        "id": "Klur5aiRPdqx"
      },
      "source": [
        "Com tudo pronto, vamos rodar uma sessão local para testar se a instalação funcionou corretamente."
      ]
    },
    {
      "cell_type": "code",
      "metadata": {
        "id": "G5ze62jFCnjq"
      },
      "source": [
        "# Iniciando uma sessão local e importando os dados\n",
        "from pyspark.sql import *\n",
        "\n",
        "sc = SparkSession.builder.master('local[*]').getOrCreate()"
      ],
      "execution_count": null,
      "outputs": []
    },
    {
      "cell_type": "markdown",
      "metadata": {
        "id": "INVWyyga9jqq"
      },
      "source": [
        "## **2.0. Obtenção dos Dados**\n",
        "\n",
        "Trabalharemos com um conjunto de dados real, a avaliação de diversos filmes por usuários da internet, do MovieLens. O site abriga variações destes dados, que podem ser baixados sob licença de uso. Existem versões de 20 milhões, 100 mil, 27 milhões de notas (ratings) para filmes, e por aí vai.\n",
        "\n",
        "Nesta análise optaremos pelo arquivo contendo 100 mil. Cada versão disponibilizada pelo site é atualizada periodicamente, então, se baixarmos uma delas hoje, provavelmente dali um tempo o mesmo arquivo terá notas e filmes diferentes. Isso porque trata-se de uma amostra aleatória para análise. \n",
        "\n",
        "Começamos o nosso trabalho carregando o dataset:"
      ]
    },
    {
      "cell_type": "code",
      "metadata": {
        "id": "gpJqWggpPKXO",
        "colab": {
          "base_uri": "https://localhost:8080/"
        },
        "outputId": "15fa807e-dcfa-4a3a-9d20-0e055f49a92e"
      },
      "source": [
        "# Download do http para arquivo local\n",
        "!wget --quiet --show-progress https://raw.githubusercontent.com/lis-r-barreto/Big-Data-com-PySpark/master/data-movielens/movies.csv\n",
        "\n",
        "!wget --quiet --show-progress https://raw.githubusercontent.com/lis-r-barreto/Big-Data-com-PySpark/master/data-movielens/ratings.csv\n",
        "\n",
        "# Carregando dados\n",
        "df_movies = sc.read.csv(\"./movies.csv\", inferSchema=True, header=True)\n",
        "df_ratings = sc.read.csv(\"./ratings.csv\", inferSchema=True, header=True)"
      ],
      "execution_count": 3,
      "outputs": [
        {
          "output_type": "stream",
          "text": [
            "movies.csv          100%[===================>] 482.84K  --.-KB/s    in 0.01s   \n",
            "ratings.csv         100%[===================>]   2.37M  --.-KB/s    in 0.04s   \n"
          ],
          "name": "stdout"
        }
      ]
    },
    {
      "cell_type": "markdown",
      "metadata": {
        "id": "WroyLN6X99pl"
      },
      "source": [
        "### **Como as avaliações dos filmes estão organizadas?**\n",
        "\n",
        "São muitas informações, portanto atribuiremos tudo isso a notas e, em vez de todas, utilizaremos o comando `show()` para ler apenas as 5 primeiras avaliações do dataset:"
      ]
    },
    {
      "cell_type": "code",
      "metadata": {
        "colab": {
          "base_uri": "https://localhost:8080/"
        },
        "id": "7S1DIYFiTbAq",
        "outputId": "8783f9ce-bda8-4f43-9ae8-07112a14b9e2"
      },
      "source": [
        "df_movies.show(5)"
      ],
      "execution_count": 4,
      "outputs": [
        {
          "output_type": "stream",
          "text": [
            "+-------+--------------------+--------------------+\n",
            "|movieId|               title|              genres|\n",
            "+-------+--------------------+--------------------+\n",
            "|      1|    Toy Story (1995)|Adventure|Animati...|\n",
            "|      2|      Jumanji (1995)|Adventure|Childre...|\n",
            "|      3|Grumpier Old Men ...|      Comedy|Romance|\n",
            "|      4|Waiting to Exhale...|Comedy|Drama|Romance|\n",
            "|      5|Father of the Bri...|              Comedy|\n",
            "+-------+--------------------+--------------------+\n",
            "only showing top 5 rows\n",
            "\n"
          ],
          "name": "stdout"
        }
      ]
    },
    {
      "cell_type": "code",
      "metadata": {
        "colab": {
          "base_uri": "https://localhost:8080/"
        },
        "id": "lalG2Rr5Tfrp",
        "outputId": "f5f1287e-ccf3-4447-c111-1aafe79df01a"
      },
      "source": [
        "df_ratings.show(5)"
      ],
      "execution_count": 5,
      "outputs": [
        {
          "output_type": "stream",
          "text": [
            "+------+-------+------+---------+\n",
            "|userId|movieId|rating|timestamp|\n",
            "+------+-------+------+---------+\n",
            "|     1|      1|   4.0|964982703|\n",
            "|     1|      3|   4.0|964981247|\n",
            "|     1|      6|   4.0|964982224|\n",
            "|     1|     47|   5.0|964983815|\n",
            "|     1|     50|   5.0|964982931|\n",
            "+------+-------+------+---------+\n",
            "only showing top 5 rows\n",
            "\n"
          ],
          "name": "stdout"
        }
      ]
    },
    {
      "cell_type": "markdown",
      "metadata": {
        "id": "SMy42GMZEz6o"
      },
      "source": [
        "Para ler apenas as 5 últimas avaliações do dataset:"
      ]
    },
    {
      "cell_type": "code",
      "metadata": {
        "colab": {
          "base_uri": "https://localhost:8080/"
        },
        "id": "jd-4NTBM_TCV",
        "outputId": "0303c6e5-2ddb-49af-bf2e-eee5c4892672"
      },
      "source": [
        "from pyspark.sql.functions import monotonically_increasing_id\n",
        "from pyspark.sql.functions import desc\n",
        "\n",
        "df_movies = df_movies.withColumn(\"index\", monotonically_increasing_id())\n",
        "df_movies.orderBy(desc(\"index\")).drop(\"index\").show(5)"
      ],
      "execution_count": 15,
      "outputs": [
        {
          "output_type": "stream",
          "text": [
            "+-------+--------------------+--------------------+\n",
            "|movieId|               title|              genres|\n",
            "+-------+--------------------+--------------------+\n",
            "| 193609|Andrew Dice Clay:...|              Comedy|\n",
            "| 193587|Bungo Stray Dogs:...|    Action|Animation|\n",
            "| 193585|        Flint (2017)|               Drama|\n",
            "| 193583|No Game No Life: ...|Animation|Comedy|...|\n",
            "| 193581|Black Butler: Boo...|Action|Animation|...|\n",
            "+-------+--------------------+--------------------+\n",
            "only showing top 5 rows\n",
            "\n"
          ],
          "name": "stdout"
        }
      ]
    },
    {
      "cell_type": "code",
      "metadata": {
        "colab": {
          "base_uri": "https://localhost:8080/"
        },
        "id": "7xyHaiB5_A4T",
        "outputId": "d86671f3-f14d-4c66-d410-98a08a44dab8"
      },
      "source": [
        "df_ratings = df_ratings.withColumn(\"index\", monotonically_increasing_id())\n",
        "df_ratings.orderBy(desc(\"index\")).drop(\"index\").show(5)"
      ],
      "execution_count": 14,
      "outputs": [
        {
          "output_type": "stream",
          "text": [
            "+------+-------+------+----------+\n",
            "|userId|movieId|rating| timestamp|\n",
            "+------+-------+------+----------+\n",
            "|   610| 170875|   3.0|1493846415|\n",
            "|   610| 168252|   5.0|1493846352|\n",
            "|   610| 168250|   5.0|1494273047|\n",
            "|   610| 168248|   5.0|1493850091|\n",
            "|   610| 166534|   4.0|1493848402|\n",
            "+------+-------+------+----------+\n",
            "only showing top 5 rows\n",
            "\n"
          ],
          "name": "stdout"
        }
      ]
    },
    {
      "cell_type": "markdown",
      "metadata": {
        "id": "VeSpyikJ9xR4"
      },
      "source": [
        "##**3.0. Manipulação dos Dados**\n",
        "\n",
        "Para manipular os dados usaremos os métodos do PySpark, pois são mais rápidos que usar SQL além de ser mais intuitivo e ter menos retrabalho no código. "
      ]
    },
    {
      "cell_type": "code",
      "metadata": {
        "colab": {
          "base_uri": "https://localhost:8080/"
        },
        "id": "XuYWL05wVpHo",
        "outputId": "0eb42428-96cb-4112-ecc5-2ef8c5772223"
      },
      "source": [
        "inner_join_movies_ratings = df_movies.join(df_ratings, df_movies.movieId == df_ratings.movieId, 'inner')\n",
        "inner_join_movies_ratings.show(5)"
      ],
      "execution_count": 6,
      "outputs": [
        {
          "output_type": "stream",
          "text": [
            "+-------+--------------------+--------------------+------+-------+------+---------+\n",
            "|movieId|               title|              genres|userId|movieId|rating|timestamp|\n",
            "+-------+--------------------+--------------------+------+-------+------+---------+\n",
            "|      1|    Toy Story (1995)|Adventure|Animati...|     1|      1|   4.0|964982703|\n",
            "|      3|Grumpier Old Men ...|      Comedy|Romance|     1|      3|   4.0|964981247|\n",
            "|      6|         Heat (1995)|Action|Crime|Thri...|     1|      6|   4.0|964982224|\n",
            "|     47|Seven (a.k.a. Se7...|    Mystery|Thriller|     1|     47|   5.0|964983815|\n",
            "|     50|Usual Suspects, T...|Crime|Mystery|Thr...|     1|     50|   5.0|964982931|\n",
            "+-------+--------------------+--------------------+------+-------+------+---------+\n",
            "only showing top 5 rows\n",
            "\n"
          ],
          "name": "stdout"
        }
      ]
    },
    {
      "cell_type": "code",
      "metadata": {
        "colab": {
          "base_uri": "https://localhost:8080/"
        },
        "id": "D0-GujEuUEaP",
        "outputId": "e949d6a3-238a-4778-b3e4-018950de82d5"
      },
      "source": [
        "# Vendo algumas informações sobre os tipos de dados de cada coluna\n",
        "df_movies_ratings = inner_join_movies_ratings\n",
        "df_movies_ratings.printSchema()"
      ],
      "execution_count": 7,
      "outputs": [
        {
          "output_type": "stream",
          "text": [
            "root\n",
            " |-- movieId: integer (nullable = true)\n",
            " |-- title: string (nullable = true)\n",
            " |-- genres: string (nullable = true)\n",
            " |-- userId: integer (nullable = true)\n",
            " |-- movieId: integer (nullable = true)\n",
            " |-- rating: double (nullable = true)\n",
            " |-- timestamp: integer (nullable = true)\n",
            "\n"
          ],
          "name": "stdout"
        }
      ]
    },
    {
      "cell_type": "code",
      "metadata": {
        "colab": {
          "base_uri": "https://localhost:8080/"
        },
        "id": "T8cqktDMUOuS",
        "outputId": "c6aadc04-6af8-41f0-d5a9-eced55f093ab"
      },
      "source": [
        "df_movies_ratings.summary().show()"
      ],
      "execution_count": 8,
      "outputs": [
        {
          "output_type": "stream",
          "text": [
            "+-------+----------------+--------------------+------------------+------------------+----------------+------------------+--------------------+\n",
            "|summary|         movieId|               title|            genres|            userId|         movieId|            rating|           timestamp|\n",
            "+-------+----------------+--------------------+------------------+------------------+----------------+------------------+--------------------+\n",
            "|  count|          100836|              100836|            100836|            100836|          100836|            100836|              100836|\n",
            "|   mean|19435.2957177992|                null|              null|326.12756356856676|19435.2957177992| 3.501556983616962|1.2059460873684695E9|\n",
            "| stddev|35530.9871987003|                null|              null| 182.6184914635004|35530.9871987003|1.0425292390606342|2.1626103599513078E8|\n",
            "|    min|               1|\"11'09\"\"01 - Sept...|(no genres listed)|                 1|               1|               0.5|           828124615|\n",
            "|    25%|            1199|                null|              null|               177|            1199|               3.0|          1018535155|\n",
            "|    50%|            2991|                null|              null|               325|            2991|               3.5|          1186086516|\n",
            "|    75%|            8092|                null|              null|               477|            8092|               4.0|          1435993828|\n",
            "|    max|          193609|À nous la liberté...|           Western|               610|          193609|               5.0|          1537799250|\n",
            "+-------+----------------+--------------------+------------------+------------------+----------------+------------------+--------------------+\n",
            "\n"
          ],
          "name": "stdout"
        }
      ]
    },
    {
      "cell_type": "code",
      "metadata": {
        "colab": {
          "base_uri": "https://localhost:8080/"
        },
        "id": "SjH5GvP9eniS",
        "outputId": "6a9e00a8-ffc0-45cf-b534-c1eb78ed68c7"
      },
      "source": [
        "df_movies_ratings.drop(\"userId\", \"timestamp\").show()"
      ],
      "execution_count": 9,
      "outputs": [
        {
          "output_type": "stream",
          "text": [
            "+-------+--------------------+--------------------+-------+------+\n",
            "|movieId|               title|              genres|movieId|rating|\n",
            "+-------+--------------------+--------------------+-------+------+\n",
            "|      1|    Toy Story (1995)|Adventure|Animati...|      1|   4.0|\n",
            "|      3|Grumpier Old Men ...|      Comedy|Romance|      3|   4.0|\n",
            "|      6|         Heat (1995)|Action|Crime|Thri...|      6|   4.0|\n",
            "|     47|Seven (a.k.a. Se7...|    Mystery|Thriller|     47|   5.0|\n",
            "|     50|Usual Suspects, T...|Crime|Mystery|Thr...|     50|   5.0|\n",
            "|     70|From Dusk Till Da...|Action|Comedy|Hor...|     70|   3.0|\n",
            "|    101|Bottle Rocket (1996)|Adventure|Comedy|...|    101|   5.0|\n",
            "|    110|   Braveheart (1995)|    Action|Drama|War|    110|   4.0|\n",
            "|    151|      Rob Roy (1995)|Action|Drama|Roma...|    151|   5.0|\n",
            "|    157|Canadian Bacon (1...|          Comedy|War|    157|   5.0|\n",
            "|    163|    Desperado (1995)|Action|Romance|We...|    163|   5.0|\n",
            "|    216|Billy Madison (1995)|              Comedy|    216|   5.0|\n",
            "|    223|       Clerks (1994)|              Comedy|    223|   3.0|\n",
            "|    231|Dumb & Dumber (Du...|    Adventure|Comedy|    231|   5.0|\n",
            "|    235|      Ed Wood (1994)|        Comedy|Drama|    235|   4.0|\n",
            "|    260|Star Wars: Episod...|Action|Adventure|...|    260|   5.0|\n",
            "|    296| Pulp Fiction (1994)|Comedy|Crime|Dram...|    296|   3.0|\n",
            "|    316|     Stargate (1994)|Action|Adventure|...|    316|   3.0|\n",
            "|    333|    Tommy Boy (1995)|              Comedy|    333|   5.0|\n",
            "|    349|Clear and Present...|Action|Crime|Dram...|    349|   4.0|\n",
            "+-------+--------------------+--------------------+-------+------+\n",
            "only showing top 20 rows\n",
            "\n"
          ],
          "name": "stdout"
        }
      ]
    },
    {
      "cell_type": "code",
      "metadata": {
        "colab": {
          "base_uri": "https://localhost:8080/"
        },
        "id": "o463R0P9-Ojc",
        "outputId": "9b40e359-d344-4278-c518-32b37e41f399"
      },
      "source": [
        "df_movies_ratings.describe(\"genres\").show()"
      ],
      "execution_count": 10,
      "outputs": [
        {
          "output_type": "stream",
          "text": [
            "+-------+------------------+\n",
            "|summary|            genres|\n",
            "+-------+------------------+\n",
            "|  count|            100836|\n",
            "|   mean|              null|\n",
            "| stddev|              null|\n",
            "|    min|(no genres listed)|\n",
            "|    max|           Western|\n",
            "+-------+------------------+\n",
            "\n"
          ],
          "name": "stdout"
        }
      ]
    },
    {
      "cell_type": "code",
      "metadata": {
        "colab": {
          "base_uri": "https://localhost:8080/"
        },
        "id": "mqfDj91MTv3m",
        "outputId": "50e8076b-b0e6-490a-ab6f-3745096d313b"
      },
      "source": [
        "df_movies_ratings.describe(\"rating\").show()"
      ],
      "execution_count": 11,
      "outputs": [
        {
          "output_type": "stream",
          "text": [
            "+-------+------------------+\n",
            "|summary|            rating|\n",
            "+-------+------------------+\n",
            "|  count|            100836|\n",
            "|   mean| 3.501556983616962|\n",
            "| stddev|1.0425292390606342|\n",
            "|    min|               0.5|\n",
            "|    max|               5.0|\n",
            "+-------+------------------+\n",
            "\n"
          ],
          "name": "stdout"
        }
      ]
    },
    {
      "cell_type": "code",
      "metadata": {
        "colab": {
          "base_uri": "https://localhost:8080/"
        },
        "id": "sTdq94-jBU55",
        "outputId": "d9e8cf1f-d366-4c8c-e6e9-5c974494cdd4"
      },
      "source": [
        "df_movies_ratings.select(\"rating\").distinct().show()"
      ],
      "execution_count": 12,
      "outputs": [
        {
          "output_type": "stream",
          "text": [
            "+------+\n",
            "|rating|\n",
            "+------+\n",
            "|   3.5|\n",
            "|   4.5|\n",
            "|   2.5|\n",
            "|   1.0|\n",
            "|   4.0|\n",
            "|   0.5|\n",
            "|   3.0|\n",
            "|   2.0|\n",
            "|   1.5|\n",
            "|   5.0|\n",
            "+------+\n",
            "\n"
          ],
          "name": "stdout"
        }
      ]
    },
    {
      "cell_type": "code",
      "metadata": {
        "colab": {
          "base_uri": "https://localhost:8080/"
        },
        "id": "qKcg2BXSB-VV",
        "outputId": "5dcc246e-7988-49dc-d01c-53fd7be45e44"
      },
      "source": [
        "df_movies_ratings.select(\"title\", \"genres\", \"rating\").filter(F.col(\"rating\") >= 4.9).show(truncate=False)"
      ],
      "execution_count": 29,
      "outputs": [
        {
          "output_type": "stream",
          "text": [
            "+-----------------------------------------+--------------------------------------------+------+\n",
            "|title                                    |genres                                      |rating|\n",
            "+-----------------------------------------+--------------------------------------------+------+\n",
            "|Seven (a.k.a. Se7en) (1995)              |Mystery|Thriller                            |5.0   |\n",
            "|Usual Suspects, The (1995)               |Crime|Mystery|Thriller                      |5.0   |\n",
            "|Bottle Rocket (1996)                     |Adventure|Comedy|Crime|Romance              |5.0   |\n",
            "|Rob Roy (1995)                           |Action|Drama|Romance|War                    |5.0   |\n",
            "|Canadian Bacon (1995)                    |Comedy|War                                  |5.0   |\n",
            "|Desperado (1995)                         |Action|Romance|Western                      |5.0   |\n",
            "|Billy Madison (1995)                     |Comedy                                      |5.0   |\n",
            "|Dumb & Dumber (Dumb and Dumber) (1994)   |Adventure|Comedy                            |5.0   |\n",
            "|Star Wars: Episode IV - A New Hope (1977)|Action|Adventure|Sci-Fi                     |5.0   |\n",
            "|Tommy Boy (1995)                         |Comedy                                      |5.0   |\n",
            "|Jungle Book, The (1994)                  |Adventure|Children|Romance                  |5.0   |\n",
            "|Fugitive, The (1993)                     |Thriller                                    |5.0   |\n",
            "|Schindler's List (1993)                  |Drama|War                                   |5.0   |\n",
            "|Tombstone (1993)                         |Action|Drama|Western                        |5.0   |\n",
            "|Pinocchio (1940)                         |Animation|Children|Fantasy|Musical          |5.0   |\n",
            "|Fargo (1996)                             |Comedy|Crime|Drama|Thriller                 |5.0   |\n",
            "|James and the Giant Peach (1996)         |Adventure|Animation|Children|Fantasy|Musical|5.0   |\n",
            "|Wizard of Oz, The (1939)                 |Adventure|Children|Fantasy|Musical          |5.0   |\n",
            "|Citizen Kane (1941)                      |Drama|Mystery                               |5.0   |\n",
            "|Adventures of Robin Hood, The (1938)     |Action|Adventure|Romance                    |5.0   |\n",
            "+-----------------------------------------+--------------------------------------------+------+\n",
            "only showing top 20 rows\n",
            "\n"
          ],
          "name": "stdout"
        }
      ]
    },
    {
      "cell_type": "code",
      "metadata": {
        "id": "MxfqfnlBC94M"
      },
      "source": [
        "df_movies_ratings\\\n",
        "    .select(\"title\",\"genres\",\"rating\")\\\n",
        "    .orderBy(\"rating\").show(truncate=False)"
      ],
      "execution_count": null,
      "outputs": []
    },
    {
      "cell_type": "code",
      "metadata": {
        "id": "Ga4D3E6ZDVz6"
      },
      "source": [
        "df_movies_ratings\\\n",
        "    .select(\"title\",\"genres\",\"rating\", round(col(\"rating\"), 1)\\\n",
        "    .alias(\"rating\"))\\\n",
        "    .orderBy(\"rating\", ascending=False).show(truncate=False)"
      ],
      "execution_count": null,
      "outputs": []
    },
    {
      "cell_type": "code",
      "metadata": {
        "id": "ONbQsoUvEW53"
      },
      "source": [
        "df_movies_ratings\\\n",
        "    .select(\"title\", \"genres\", \"rating\")\\\n",
        "    .filter(col(\"genres\")\\\n",
        "    .like(\"%Fantasy%\"))\\\n",
        "    .orderBy(\"rating\", ascending=False)\\\n",
        "    .show(truncate=False)"
      ],
      "execution_count": null,
      "outputs": []
    },
    {
      "cell_type": "code",
      "metadata": {
        "id": "AgEwzdr1KLXr"
      },
      "source": [
        "dimensions = [\"title\",\"genres\",\"rating\"]\n",
        "metrics = [\"rating\"]\n",
        "dim_df_movies_ratings = df_movies_ratings.groupBy(dimensions).count()\n",
        "dim_df_movies_ratings.show()"
      ],
      "execution_count": null,
      "outputs": []
    },
    {
      "cell_type": "code",
      "metadata": {
        "id": "2GJFHGfaKWwY"
      },
      "source": [
        "groupby_genres = df_movies_ratings.groupBy(\"genres\").count()\n",
        "groupby_genres.show()"
      ],
      "execution_count": null,
      "outputs": []
    },
    {
      "cell_type": "markdown",
      "metadata": {
        "id": "HDXg4b1SFlIu"
      },
      "source": [
        "# **4.0. Análise Exploratória de Dados com Koalas**\n",
        "\n",
        "Koalas é uma biblioteca Python que provê umas espécie de \"Pandas-like API\" em um Spark DataFrame.\n",
        "\n",
        "\n",
        "<center>\n",
        "<img class=\"one\" src=\"https://databricks.com/wp-content/uploads/2020/08/Koalas-logo-og.png\"  height=\"150\"><br>\n",
        "</center>"
      ]
    },
    {
      "cell_type": "code",
      "metadata": {
        "id": "udW0jEJAFqBk"
      },
      "source": [
        "dfRatingsKdf = df_ratings.to_koalas()"
      ],
      "execution_count": 26,
      "outputs": []
    },
    {
      "cell_type": "code",
      "metadata": {
        "colab": {
          "base_uri": "https://localhost:8080/",
          "height": 431
        },
        "id": "xIU4NV_4HSH5",
        "outputId": "39ef27e6-9f37-4615-9f3e-5ddb4bc2157c"
      },
      "source": [
        "%%time\n",
        "movieRatingDistGroup = dfRatingsKdf['rating'].value_counts() \\\n",
        "                                             .sort_index() \\\n",
        "                                             .reset_index() \\\n",
        "                                             .to_pandas()\n",
        "\n",
        "# Create Matplotlib Figure\n",
        "fig, ax = plt.subplots(figsize=(12,6))\n",
        "\n",
        "# Main Figure: Seaborn Barplot\n",
        "sns.barplot(data=movieRatingDistGroup, x='index', y='rating',\n",
        "            palette='RdYlGn', edgecolor=\"black\", ax=ax)\n",
        "\n",
        "# Set Xaxis and Yaxis\n",
        "ax.set_xlabel(\"User-Movie Ratings\")\n",
        "ax.set_ylabel('Nb. of Users')\n",
        "ax.xaxis.set_tick_params(rotation=45)\n",
        "\n",
        "# Thousand separator on Yaxis labels\n",
        "ax.set_yticklabels(['{:,}'.format(int(x)) for x in ax.get_yticks().tolist()])\n",
        "\n",
        "# Add percentage text on top of each bar\n",
        "total = float(movieRatingDistGroup['rating'].sum())\n",
        "for p in ax.patches:\n",
        "    height = p.get_height()\n",
        "    ax.text(p.get_x()+p.get_width()/2.,\n",
        "            height+350,\n",
        "            '{0:.0%}'.format(height/total),\n",
        "            ha=\"center\") \n",
        "\n",
        "# Display plot\n",
        "plt.show()"
      ],
      "execution_count": 27,
      "outputs": [
        {
          "output_type": "display_data",
          "data": {
            "image/png": "[encoded data removed]",
            "text/plain": [
              "<Figure size 864x432 with 1 Axes>"
            ]
          },
          "metadata": {
            "tags": [],
            "needs_background": "light"
          }
        },
        {
          "output_type": "stream",
          "text": [
            "CPU times: user 375 ms, sys: 23.8 ms, total: 399 ms\n",
            "Wall time: 3.14 s\n"
          ],
          "name": "stdout"
        }
      ]
    },
    {
      "cell_type": "markdown",
      "metadata": {
        "id": "nhWLOhsuBbEe"
      },
      "source": [
        "## **Referências**\n",
        "\n",
        "[Data Science: Primeiros passos](https://github.com/alura-cursos/introducao-a-data-science/)\n",
        "\n",
        "[Designing a Scalable Movie Recommender System with Apache Spark and Google Colab](https://github.com/SJD1882/Big-Data-Recommender-Systems)\n",
        "\n"
      ]
    }
  ]
}