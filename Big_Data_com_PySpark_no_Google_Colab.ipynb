{
  "nbformat": 4,
  "nbformat_minor": 0,
  "metadata": {
    "colab": {
      "name": "Big Data com PySpark no Google Colab.ipynb",
      "provenance": [],
      "include_colab_link": true
    },
    "kernelspec": {
      "name": "python3",
      "display_name": "Python 3"
    }
  },
  "cells": [
    {
      "cell_type": "markdown",
      "metadata": {
        "id": "view-in-github",
        "colab_type": "text"
      },
      "source": [
        "<a href=\"https://colab.research.google.com/github/lis-r-barreto/Big-Data-com-PySpark/blob/master/Big_Data_com_PySpark_no_Google_Colab.ipynb\" target=\"_parent\"><img src=\"https://colab.research.google.com/assets/colab-badge.svg\" alt=\"Open In Colab\"/></a>"
      ]
    },
    {
      "cell_type": "markdown",
      "metadata": {
        "id": "iRMmNTO_8uPL"
      },
      "source": [
        "# **Analisando os Dados do MovieLens 🎬**\n",
        "## **Contexto 🎞️**\n",
        "\n",
        "<center>\n",
        "<img src=\"https://s3-us-west-2.amazonaws.com/flx-editorial-wordpress/wp-content/uploads/2018/03/13153742/RT_300EssentialMovies_700X250.jpg\" alt=\"Posters de filmes\" width=\"50%\"/>\n",
        "</center> \n",
        "\n",
        "O **MovieLens** é um sistema de recomendação e comunidade virtual baseado na Web que recomenda filmes para os usuários assistirem, com base em suas preferências de filme usando filtro colaborativo das classificações e críticas de filmes dos membros. \n",
        "\n",
        "#### **O objetivo dessa análise é explorar dois conjuntos de dados do MovieLens que contém informações sobre diversos filmes e a partir dessas informações extrair insights.**\n",
        "\n",
        "## **Big Data com PySpark**\n",
        "\n",
        "<center>\n",
        "<img class=\"one\" src=\"https://aprendizadodemaquina.com/media/filer_public_thumbnails/filer_public/3a/65/3a658469-383e-4c1d-b4fb-502229858579/pyspark.png__800x450_q85_crop_subsampling-2.png\"  height=\"150\"><br>\n",
        "</center>\n",
        "\n",
        "A biblioteca PySpark permite você criar seu servidor Apache Spark, trabalhar com grandes volumes de dados e até mesmo fazer streaming em tempo real."
      ]
    },
    {
      "cell_type": "markdown",
      "metadata": {
        "id": "pci_oK13fzX0"
      },
      "source": [
        "## **1.0. Configurações 🛠️**\n",
        "\n",
        "<center>\n",
        "<img src=\"https://1.bp.blogspot.com/-SJ9kDlUd5qo/Xuo_0lQytwI/AAAAAAACK4M/J4miSQMT1OsJT5XMG9Au5DfiO_fd18kfgCLcBGAsYHQ/s1600/b1d5c4ae072a7173830c7c17690ed2c9.gif\" alt=\"Cena do filmes Tempos Modernos com Charles Chaplin nas engrenagens\" width=\"400\"/>\n",
        "</center>"
      ]
    },
    {
      "cell_type": "code",
      "metadata": {
        "id": "Oz_8sWI7PKEl",
        "colab": {
          "base_uri": "https://localhost:8080/"
        },
        "outputId": "e3dcdb02-e059-4933-f4a4-199d4f31b8c3"
      },
      "source": [
        "# Instalando as dependências\n",
        "!apt-get install openjdk-8-jdk-headless -qq > /dev/null\n",
        "!wget -q https://archive.apache.org/dist/spark/spark-2.4.4/spark-2.4.4-bin-hadoop2.7.tgz\n",
        "!tar xf spark-2.4.4-bin-hadoop2.7.tgz\n",
        "!pip install -q findspark\n",
        "!pip install koalas"
      ],
      "execution_count": 55,
      "outputs": [
        {
          "output_type": "stream",
          "text": [
            "Requirement already satisfied: koalas in /usr/local/lib/python3.7/dist-packages (1.8.1)\n",
            "Requirement already satisfied: pyarrow>=0.10 in /usr/local/lib/python3.7/dist-packages (from koalas) (3.0.0)\n",
            "Requirement already satisfied: pandas>=0.23.2 in /usr/local/lib/python3.7/dist-packages (from koalas) (1.1.5)\n",
            "Requirement already satisfied: numpy>=1.14 in /usr/local/lib/python3.7/dist-packages (from koalas) (1.19.5)\n",
            "Requirement already satisfied: pytz>=2017.2 in /usr/local/lib/python3.7/dist-packages (from pandas>=0.23.2->koalas) (2018.9)\n",
            "Requirement already satisfied: python-dateutil>=2.7.3 in /usr/local/lib/python3.7/dist-packages (from pandas>=0.23.2->koalas) (2.8.1)\n",
            "Requirement already satisfied: six>=1.5 in /usr/local/lib/python3.7/dist-packages (from python-dateutil>=2.7.3->pandas>=0.23.2->koalas) (1.15.0)\n"
          ],
          "name": "stdout"
        }
      ]
    },
    {
      "cell_type": "markdown",
      "metadata": {
        "id": "cabkOXVRPYgq"
      },
      "source": [
        "A próxima etapa é configurar as variáveis de ambiente, pois isso habilita o ambiente do Colab a identificar corretamente onde as dependências estão rodando.\n",
        "\n",
        "Para conseguir “manipular” o terminal e interagir como ele, você pode usar a biblioteca os."
      ]
    },
    {
      "cell_type": "code",
      "metadata": {
        "id": "RkpG11RQPbRf"
      },
      "source": [
        "# Configurando as variáveis de ambiente\n",
        "import os\n",
        "os.environ[\"JAVA_HOME\"] = \"/usr/lib/jvm/java-8-openjdk-amd64\"\n",
        "os.environ[\"SPARK_HOME\"] = \"/content/spark-2.4.4-bin-hadoop2.7\"\n",
        "\n",
        "# Tornando o PySpark \"importável\"\n",
        "import findspark\n",
        "findspark.init('spark-2.4.4-bin-hadoop2.7')\n",
        "\n",
        "\n",
        "# Importando as bibliotecas\n",
        "import math\n",
        "import numpy as np\n",
        "import pandas as pd\n",
        "import matplotlib.pyplot as plt\n",
        "import matplotlib.ticker as ticker\n",
        "import seaborn as sns\n",
        "import random\n",
        "from pprint import pprint\n",
        "from matplotlib.lines import Line2D\n",
        "\n",
        "# Importando o Koalas\n",
        "import databricks.koalas\n",
        "\n",
        "# Importando o PySpark SQL\n",
        "from pyspark.sql import SparkSession\n",
        "import pyspark.sql.functions as F\n",
        "from pyspark.sql.types import *"
      ],
      "execution_count": 56,
      "outputs": []
    },
    {
      "cell_type": "markdown",
      "metadata": {
        "id": "Klur5aiRPdqx"
      },
      "source": [
        "Com tudo pronto, vamos rodar uma sessão local para testar se a instalação funcionou corretamente."
      ]
    },
    {
      "cell_type": "code",
      "metadata": {
        "id": "G5ze62jFCnjq"
      },
      "source": [
        "# Iniciando uma sessão local e importando os dados\n",
        "sc = SparkSession.builder.master('local[*]').getOrCreate()"
      ],
      "execution_count": 57,
      "outputs": []
    },
    {
      "cell_type": "markdown",
      "metadata": {
        "id": "INVWyyga9jqq"
      },
      "source": [
        "## **2.0. Obtenção dos Dados**\n",
        "\n",
        "Trabalharemos com um conjunto de dados real, a avaliação de diversos filmes por usuários da internet, do MovieLens. O site abriga variações destes dados, que podem ser baixados sob licença de uso. Existem versões de 20 milhões, 100 mil, 27 milhões de notas (ratings) para filmes, e por aí vai.\n",
        "\n",
        "Nesta análise optaremos pelo arquivo contendo 100 mil. Cada versão disponibilizada pelo site é atualizada periodicamente, então, se baixarmos uma delas hoje, provavelmente dali um tempo o mesmo arquivo terá notas e filmes diferentes. Isso porque trata-se de uma amostra aleatória para análise. \n",
        "\n",
        "Começamos o nosso trabalho carregando o dataset:"
      ]
    },
    {
      "cell_type": "code",
      "metadata": {
        "id": "gpJqWggpPKXO",
        "colab": {
          "base_uri": "https://localhost:8080/"
        },
        "outputId": "8bdbc6f2-7d24-49b3-a06d-a4aa2ba46d4c"
      },
      "source": [
        "# Download do http para arquivo local\n",
        "!wget --quiet --show-progress https://raw.githubusercontent.com/lis-r-barreto/Big-Data-com-PySpark/master/data-movielens/movies.csv\n",
        "\n",
        "!wget --quiet --show-progress https://raw.githubusercontent.com/lis-r-barreto/Big-Data-com-PySpark/master/data-movielens/ratings.csv\n",
        "\n",
        "# Carregando dados\n",
        "df_movies = sc.read.csv(\"./movies.csv\", inferSchema=True, header=True)\n",
        "df_ratings = sc.read.csv(\"./ratings.csv\", inferSchema=True, header=True)"
      ],
      "execution_count": 58,
      "outputs": [
        {
          "output_type": "stream",
          "text": [
            "movies.csv.5        100%[===================>] 482.84K  --.-KB/s    in 0.01s   \n",
            "ratings.csv.5       100%[===================>]   2.37M  --.-KB/s    in 0.06s   \n"
          ],
          "name": "stdout"
        }
      ]
    },
    {
      "cell_type": "markdown",
      "metadata": {
        "id": "WroyLN6X99pl"
      },
      "source": [
        "### **Como as avaliações dos filmes estão organizadas?**\n",
        "\n",
        "São muitas informações, portanto atribuiremos tudo isso a notas e, em vez de todas, utilizaremos o comando `show()` para ler apenas as 5 primeiras avaliações do dataset:"
      ]
    },
    {
      "cell_type": "code",
      "metadata": {
        "colab": {
          "base_uri": "https://localhost:8080/"
        },
        "id": "7S1DIYFiTbAq",
        "outputId": "df2b0d46-5943-4d88-b254-0dbff1f42771"
      },
      "source": [
        "df_movies.show(5)"
      ],
      "execution_count": 59,
      "outputs": [
        {
          "output_type": "stream",
          "text": [
            "+-------+--------------------+--------------------+\n",
            "|movieId|               title|              genres|\n",
            "+-------+--------------------+--------------------+\n",
            "|      1|    Toy Story (1995)|Adventure|Animati...|\n",
            "|      2|      Jumanji (1995)|Adventure|Childre...|\n",
            "|      3|Grumpier Old Men ...|      Comedy|Romance|\n",
            "|      4|Waiting to Exhale...|Comedy|Drama|Romance|\n",
            "|      5|Father of the Bri...|              Comedy|\n",
            "+-------+--------------------+--------------------+\n",
            "only showing top 5 rows\n",
            "\n"
          ],
          "name": "stdout"
        }
      ]
    },
    {
      "cell_type": "code",
      "metadata": {
        "colab": {
          "base_uri": "https://localhost:8080/"
        },
        "id": "lalG2Rr5Tfrp",
        "outputId": "9c12d739-1ee0-48fa-b793-1674b82d9ad8"
      },
      "source": [
        "df_ratings.show(5)"
      ],
      "execution_count": 60,
      "outputs": [
        {
          "output_type": "stream",
          "text": [
            "+------+-------+------+---------+\n",
            "|userId|movieId|rating|timestamp|\n",
            "+------+-------+------+---------+\n",
            "|     1|      1|   4.0|964982703|\n",
            "|     1|      3|   4.0|964981247|\n",
            "|     1|      6|   4.0|964982224|\n",
            "|     1|     47|   5.0|964983815|\n",
            "|     1|     50|   5.0|964982931|\n",
            "+------+-------+------+---------+\n",
            "only showing top 5 rows\n",
            "\n"
          ],
          "name": "stdout"
        }
      ]
    },
    {
      "cell_type": "markdown",
      "metadata": {
        "id": "SMy42GMZEz6o"
      },
      "source": [
        "Para ler apenas as 5 últimas avaliações do dataset:"
      ]
    },
    {
      "cell_type": "code",
      "metadata": {
        "colab": {
          "base_uri": "https://localhost:8080/"
        },
        "id": "jd-4NTBM_TCV",
        "outputId": "618fdb83-f966-4d1f-ab0d-a015cf127637"
      },
      "source": [
        "df_movies = df_movies.withColumn(\"index\", F.monotonically_increasing_id())\n",
        "df_movies.orderBy(F.desc(\"index\")).drop(\"index\").show(5)"
      ],
      "execution_count": 61,
      "outputs": [
        {
          "output_type": "stream",
          "text": [
            "+-------+--------------------+--------------------+\n",
            "|movieId|               title|              genres|\n",
            "+-------+--------------------+--------------------+\n",
            "| 193609|Andrew Dice Clay:...|              Comedy|\n",
            "| 193587|Bungo Stray Dogs:...|    Action|Animation|\n",
            "| 193585|        Flint (2017)|               Drama|\n",
            "| 193583|No Game No Life: ...|Animation|Comedy|...|\n",
            "| 193581|Black Butler: Boo...|Action|Animation|...|\n",
            "+-------+--------------------+--------------------+\n",
            "only showing top 5 rows\n",
            "\n"
          ],
          "name": "stdout"
        }
      ]
    },
    {
      "cell_type": "code",
      "metadata": {
        "colab": {
          "base_uri": "https://localhost:8080/"
        },
        "id": "7xyHaiB5_A4T",
        "outputId": "a4ff6354-da67-4724-c36d-30f102f241af"
      },
      "source": [
        "df_ratings = df_ratings.withColumn(\"index\", F.monotonically_increasing_id())\n",
        "df_ratings.orderBy(F.desc(\"index\")).drop(\"index\").show(5)"
      ],
      "execution_count": 62,
      "outputs": [
        {
          "output_type": "stream",
          "text": [
            "+------+-------+------+----------+\n",
            "|userId|movieId|rating| timestamp|\n",
            "+------+-------+------+----------+\n",
            "|   610| 170875|   3.0|1493846415|\n",
            "|   610| 168252|   5.0|1493846352|\n",
            "|   610| 168250|   5.0|1494273047|\n",
            "|   610| 168248|   5.0|1493850091|\n",
            "|   610| 166534|   4.0|1493848402|\n",
            "+------+-------+------+----------+\n",
            "only showing top 5 rows\n",
            "\n"
          ],
          "name": "stdout"
        }
      ]
    },
    {
      "cell_type": "markdown",
      "metadata": {
        "id": "VeSpyikJ9xR4"
      },
      "source": [
        "##**3.0. Manipulação dos Dados**\n",
        "\n",
        "Para manipular os dados usaremos os métodos do PySpark, pois são mais rápidos que usar SQL além de ser mais intuitivo e ter menos retrabalho no código. "
      ]
    },
    {
      "cell_type": "code",
      "metadata": {
        "colab": {
          "base_uri": "https://localhost:8080/"
        },
        "id": "XuYWL05wVpHo",
        "outputId": "e6bf780c-daac-416f-97fb-afa777cec281"
      },
      "source": [
        "inner_join_movies_ratings = df_movies.join(df_ratings, df_movies.movieId == df_ratings.movieId, 'inner')\n",
        "inner_join_movies_ratings.show(5)"
      ],
      "execution_count": 63,
      "outputs": [
        {
          "output_type": "stream",
          "text": [
            "+-------+--------------------+--------------------+-----+------+-------+------+---------+-----+\n",
            "|movieId|               title|              genres|index|userId|movieId|rating|timestamp|index|\n",
            "+-------+--------------------+--------------------+-----+------+-------+------+---------+-----+\n",
            "|      1|    Toy Story (1995)|Adventure|Animati...|    0|     1|      1|   4.0|964982703|    0|\n",
            "|      3|Grumpier Old Men ...|      Comedy|Romance|    2|     1|      3|   4.0|964981247|    1|\n",
            "|      6|         Heat (1995)|Action|Crime|Thri...|    5|     1|      6|   4.0|964982224|    2|\n",
            "|     47|Seven (a.k.a. Se7...|    Mystery|Thriller|   43|     1|     47|   5.0|964983815|    3|\n",
            "|     50|Usual Suspects, T...|Crime|Mystery|Thr...|   46|     1|     50|   5.0|964982931|    4|\n",
            "+-------+--------------------+--------------------+-----+------+-------+------+---------+-----+\n",
            "only showing top 5 rows\n",
            "\n"
          ],
          "name": "stdout"
        }
      ]
    },
    {
      "cell_type": "code",
      "metadata": {
        "colab": {
          "base_uri": "https://localhost:8080/"
        },
        "id": "D0-GujEuUEaP",
        "outputId": "c81fd173-3fb5-4b82-f1cc-63740d845a2d"
      },
      "source": [
        "# Vendo algumas informações sobre os tipos de dados de cada coluna\n",
        "df_movies_ratings = inner_join_movies_ratings\n",
        "df_movies_ratings.printSchema()"
      ],
      "execution_count": 64,
      "outputs": [
        {
          "output_type": "stream",
          "text": [
            "root\n",
            " |-- movieId: integer (nullable = true)\n",
            " |-- title: string (nullable = true)\n",
            " |-- genres: string (nullable = true)\n",
            " |-- index: long (nullable = false)\n",
            " |-- userId: integer (nullable = true)\n",
            " |-- movieId: integer (nullable = true)\n",
            " |-- rating: double (nullable = true)\n",
            " |-- timestamp: integer (nullable = true)\n",
            " |-- index: long (nullable = false)\n",
            "\n"
          ],
          "name": "stdout"
        }
      ]
    },
    {
      "cell_type": "code",
      "metadata": {
        "colab": {
          "base_uri": "https://localhost:8080/"
        },
        "id": "T8cqktDMUOuS",
        "outputId": "05dd0117-0f29-46a4-820c-d8b37c8b5eed"
      },
      "source": [
        "df_movies_ratings.summary().show()"
      ],
      "execution_count": 65,
      "outputs": [
        {
          "output_type": "stream",
          "text": [
            "+-------+----------------+--------------------+------------------+------------------+------------------+----------------+------------------+--------------------+---------------+\n",
            "|summary|         movieId|               title|            genres|             index|            userId|         movieId|            rating|           timestamp|          index|\n",
            "+-------+----------------+--------------------+------------------+------------------+------------------+----------------+------------------+--------------------+---------------+\n",
            "|  count|          100836|              100836|            100836|            100836|            100836|          100836|            100836|              100836|         100836|\n",
            "|   mean|19435.2957177992|                null|              null|3107.3762346780914|326.12756356856676|19435.2957177992| 3.501556983616962|1.2059460873684695E9|        50417.5|\n",
            "| stddev|35530.9871987003|                null|              null|2633.5128007746953| 182.6184914635004|35530.9871987003|1.0425292390606342|2.1626103599513078E8|29108.990209212|\n",
            "|    min|               1|\"11'09\"\"01 - Sept...|(no genres listed)|                 0|                 1|               1|               0.5|           828124615|              0|\n",
            "|    25%|            1199|                null|              null|               901|               177|            1199|               3.0|          1018535155|          25201|\n",
            "|    50%|            2991|                null|              null|              2254|               325|            2991|               3.5|          1186086516|          50414|\n",
            "|    75%|            8092|                null|              null|              5099|               477|            8092|               4.0|          1435993828|          75617|\n",
            "|    max|          193609|À nous la liberté...|           Western|              9741|               610|          193609|               5.0|          1537799250|         100835|\n",
            "+-------+----------------+--------------------+------------------+------------------+------------------+----------------+------------------+--------------------+---------------+\n",
            "\n"
          ],
          "name": "stdout"
        }
      ]
    },
    {
      "cell_type": "code",
      "metadata": {
        "colab": {
          "base_uri": "https://localhost:8080/"
        },
        "id": "SjH5GvP9eniS",
        "outputId": "a5235957-aa61-480b-9512-17df0301b71d"
      },
      "source": [
        "df_movies_ratings.drop(\"userId\", \"timestamp\").show()"
      ],
      "execution_count": 66,
      "outputs": [
        {
          "output_type": "stream",
          "text": [
            "+-------+--------------------+--------------------+-----+-------+------+-----+\n",
            "|movieId|               title|              genres|index|movieId|rating|index|\n",
            "+-------+--------------------+--------------------+-----+-------+------+-----+\n",
            "|      1|    Toy Story (1995)|Adventure|Animati...|    0|      1|   4.0|    0|\n",
            "|      3|Grumpier Old Men ...|      Comedy|Romance|    2|      3|   4.0|    1|\n",
            "|      6|         Heat (1995)|Action|Crime|Thri...|    5|      6|   4.0|    2|\n",
            "|     47|Seven (a.k.a. Se7...|    Mystery|Thriller|   43|     47|   5.0|    3|\n",
            "|     50|Usual Suspects, T...|Crime|Mystery|Thr...|   46|     50|   5.0|    4|\n",
            "|     70|From Dusk Till Da...|Action|Comedy|Hor...|   62|     70|   3.0|    5|\n",
            "|    101|Bottle Rocket (1996)|Adventure|Comedy|...|   89|    101|   5.0|    6|\n",
            "|    110|   Braveheart (1995)|    Action|Drama|War|   97|    110|   4.0|    7|\n",
            "|    151|      Rob Roy (1995)|Action|Drama|Roma...|  124|    151|   5.0|    8|\n",
            "|    157|Canadian Bacon (1...|          Comedy|War|  130|    157|   5.0|    9|\n",
            "|    163|    Desperado (1995)|Action|Romance|We...|  136|    163|   5.0|   10|\n",
            "|    216|Billy Madison (1995)|              Comedy|  184|    216|   5.0|   11|\n",
            "|    223|       Clerks (1994)|              Comedy|  190|    223|   3.0|   12|\n",
            "|    231|Dumb & Dumber (Du...|    Adventure|Comedy|  197|    231|   5.0|   13|\n",
            "|    235|      Ed Wood (1994)|        Comedy|Drama|  201|    235|   4.0|   14|\n",
            "|    260|Star Wars: Episod...|Action|Adventure|...|  224|    260|   5.0|   15|\n",
            "|    296| Pulp Fiction (1994)|Comedy|Crime|Dram...|  257|    296|   3.0|   16|\n",
            "|    316|     Stargate (1994)|Action|Adventure|...|  275|    316|   3.0|   17|\n",
            "|    333|    Tommy Boy (1995)|              Comedy|  291|    333|   5.0|   18|\n",
            "|    349|Clear and Present...|Action|Crime|Dram...|  307|    349|   4.0|   19|\n",
            "+-------+--------------------+--------------------+-----+-------+------+-----+\n",
            "only showing top 20 rows\n",
            "\n"
          ],
          "name": "stdout"
        }
      ]
    },
    {
      "cell_type": "code",
      "metadata": {
        "colab": {
          "base_uri": "https://localhost:8080/"
        },
        "id": "o463R0P9-Ojc",
        "outputId": "5a871125-d2aa-4fdc-cc0d-995317b72bea"
      },
      "source": [
        "df_movies_ratings.describe(\"genres\").show()"
      ],
      "execution_count": 67,
      "outputs": [
        {
          "output_type": "stream",
          "text": [
            "+-------+------------------+\n",
            "|summary|            genres|\n",
            "+-------+------------------+\n",
            "|  count|            100836|\n",
            "|   mean|              null|\n",
            "| stddev|              null|\n",
            "|    min|(no genres listed)|\n",
            "|    max|           Western|\n",
            "+-------+------------------+\n",
            "\n"
          ],
          "name": "stdout"
        }
      ]
    },
    {
      "cell_type": "code",
      "metadata": {
        "colab": {
          "base_uri": "https://localhost:8080/"
        },
        "id": "mqfDj91MTv3m",
        "outputId": "cefb814d-3afd-48be-8593-99a9b062dc01"
      },
      "source": [
        "df_movies_ratings.describe(\"rating\").show()"
      ],
      "execution_count": 68,
      "outputs": [
        {
          "output_type": "stream",
          "text": [
            "+-------+------------------+\n",
            "|summary|            rating|\n",
            "+-------+------------------+\n",
            "|  count|            100836|\n",
            "|   mean| 3.501556983616962|\n",
            "| stddev|1.0425292390606342|\n",
            "|    min|               0.5|\n",
            "|    max|               5.0|\n",
            "+-------+------------------+\n",
            "\n"
          ],
          "name": "stdout"
        }
      ]
    },
    {
      "cell_type": "code",
      "metadata": {
        "colab": {
          "base_uri": "https://localhost:8080/"
        },
        "id": "sTdq94-jBU55",
        "outputId": "1d71c80f-009d-4958-ce50-c18a7aa837fe"
      },
      "source": [
        "df_movies_ratings.select(\"rating\").distinct().show()"
      ],
      "execution_count": 69,
      "outputs": [
        {
          "output_type": "stream",
          "text": [
            "+------+\n",
            "|rating|\n",
            "+------+\n",
            "|   3.5|\n",
            "|   4.5|\n",
            "|   2.5|\n",
            "|   1.0|\n",
            "|   4.0|\n",
            "|   0.5|\n",
            "|   3.0|\n",
            "|   2.0|\n",
            "|   1.5|\n",
            "|   5.0|\n",
            "+------+\n",
            "\n"
          ],
          "name": "stdout"
        }
      ]
    },
    {
      "cell_type": "code",
      "metadata": {
        "colab": {
          "base_uri": "https://localhost:8080/"
        },
        "id": "qKcg2BXSB-VV",
        "outputId": "e9f85d7a-5bd8-4601-efe4-3ba12ebc0195"
      },
      "source": [
        "df_movies_ratings.select(\"title\", \"genres\", \"rating\").filter(F.col(\"rating\") >= 4.9).show(truncate=False)"
      ],
      "execution_count": 70,
      "outputs": [
        {
          "output_type": "stream",
          "text": [
            "+-----------------------------------------+--------------------------------------------+------+\n",
            "|title                                    |genres                                      |rating|\n",
            "+-----------------------------------------+--------------------------------------------+------+\n",
            "|Seven (a.k.a. Se7en) (1995)              |Mystery|Thriller                            |5.0   |\n",
            "|Usual Suspects, The (1995)               |Crime|Mystery|Thriller                      |5.0   |\n",
            "|Bottle Rocket (1996)                     |Adventure|Comedy|Crime|Romance              |5.0   |\n",
            "|Rob Roy (1995)                           |Action|Drama|Romance|War                    |5.0   |\n",
            "|Canadian Bacon (1995)                    |Comedy|War                                  |5.0   |\n",
            "|Desperado (1995)                         |Action|Romance|Western                      |5.0   |\n",
            "|Billy Madison (1995)                     |Comedy                                      |5.0   |\n",
            "|Dumb & Dumber (Dumb and Dumber) (1994)   |Adventure|Comedy                            |5.0   |\n",
            "|Star Wars: Episode IV - A New Hope (1977)|Action|Adventure|Sci-Fi                     |5.0   |\n",
            "|Tommy Boy (1995)                         |Comedy                                      |5.0   |\n",
            "|Jungle Book, The (1994)                  |Adventure|Children|Romance                  |5.0   |\n",
            "|Fugitive, The (1993)                     |Thriller                                    |5.0   |\n",
            "|Schindler's List (1993)                  |Drama|War                                   |5.0   |\n",
            "|Tombstone (1993)                         |Action|Drama|Western                        |5.0   |\n",
            "|Pinocchio (1940)                         |Animation|Children|Fantasy|Musical          |5.0   |\n",
            "|Fargo (1996)                             |Comedy|Crime|Drama|Thriller                 |5.0   |\n",
            "|James and the Giant Peach (1996)         |Adventure|Animation|Children|Fantasy|Musical|5.0   |\n",
            "|Wizard of Oz, The (1939)                 |Adventure|Children|Fantasy|Musical          |5.0   |\n",
            "|Citizen Kane (1941)                      |Drama|Mystery                               |5.0   |\n",
            "|Adventures of Robin Hood, The (1938)     |Action|Adventure|Romance                    |5.0   |\n",
            "+-----------------------------------------+--------------------------------------------+------+\n",
            "only showing top 20 rows\n",
            "\n"
          ],
          "name": "stdout"
        }
      ]
    },
    {
      "cell_type": "code",
      "metadata": {
        "id": "MxfqfnlBC94M",
        "colab": {
          "base_uri": "https://localhost:8080/"
        },
        "outputId": "427e4421-a0b1-45f2-f9c8-eb4ae108108e"
      },
      "source": [
        "df_movies_ratings\\\n",
        "    .select(\"title\",\"genres\",\"rating\")\\\n",
        "    .orderBy(\"rating\").show(truncate=False)"
      ],
      "execution_count": 71,
      "outputs": [
        {
          "output_type": "stream",
          "text": [
            "+---------------------------------------------------+----------------------------------------+------+\n",
            "|title                                              |genres                                  |rating|\n",
            "+---------------------------------------------------+----------------------------------------+------+\n",
            "|As Good as It Gets (1997)                          |Comedy|Drama|Romance                    |0.5   |\n",
            "|Joy Ride (2001)                                    |Adventure|Thriller                      |0.5   |\n",
            "|Pearl Harbor (2001)                                |Action|Drama|Romance|War                |0.5   |\n",
            "|Requiem for a Dream (2000)                         |Drama                                   |0.5   |\n",
            "|Star Wars: Episode II - Attack of the Clones (2002)|Action|Adventure|Sci-Fi|IMAX            |0.5   |\n",
            "|Snow Dogs (2002)                                   |Adventure|Children|Comedy               |0.5   |\n",
            "|Hulk (2003)                                        |Action|Adventure|Sci-Fi                 |0.5   |\n",
            "|Schindler's List (1993)                            |Drama|War                               |0.5   |\n",
            "|Lady in the Water (2006)                           |Drama|Fantasy|Mystery                   |0.5   |\n",
            "|Operation Dumbo Drop (1995)                        |Action|Adventure|Comedy|War             |0.5   |\n",
            "|Holiday, The (2006)                                |Comedy|Romance                          |0.5   |\n",
            "|On Golden Pond (1981)                              |Drama                                   |0.5   |\n",
            "|Mary Poppins (1964)                                |Children|Comedy|Fantasy|Musical         |0.5   |\n",
            "|Patton (1970)                                      |Drama|War                               |0.5   |\n",
            "|Matrix, The (1999)                                 |Action|Sci-Fi|Thriller                  |0.5   |\n",
            "|Bambi (1942)                                       |Animation|Children|Drama                |0.5   |\n",
            "|Sixth Sense, The (1999)                            |Drama|Horror|Mystery                    |0.5   |\n",
            "|Rescuers, The (1977)                               |Adventure|Animation|Children|Crime|Drama|0.5   |\n",
            "|Fight Club (1999)                                  |Action|Crime|Drama|Thriller             |0.5   |\n",
            "|Fast Times at Ridgemont High (1982)                |Comedy|Drama|Romance                    |0.5   |\n",
            "+---------------------------------------------------+----------------------------------------+------+\n",
            "only showing top 20 rows\n",
            "\n"
          ],
          "name": "stdout"
        }
      ]
    },
    {
      "cell_type": "code",
      "metadata": {
        "id": "Ga4D3E6ZDVz6",
        "colab": {
          "base_uri": "https://localhost:8080/"
        },
        "outputId": "057713af-1c76-4e89-f842-b88ef8892bed"
      },
      "source": [
        "df_movies_ratings\\\n",
        "    .select(\"title\",\"genres\",\"rating\", F.round(F.col(\"rating\"), 1)\\\n",
        "    .alias(\"rating\"))\\\n",
        "    .orderBy(\"rating\", ascending=False).show(truncate=False)"
      ],
      "execution_count": 72,
      "outputs": [
        {
          "output_type": "stream",
          "text": [
            "+-------------------------------------------+--------------------------------------------+------+------+\n",
            "|title                                      |genres                                      |rating|rating|\n",
            "+-------------------------------------------+--------------------------------------------+------+------+\n",
            "|Mr. Smith Goes to Washington (1939)        |Drama                                       |5.0   |5.0   |\n",
            "|Blues Brothers, The (1980)                 |Action|Comedy|Musical                       |5.0   |5.0   |\n",
            "|Winnie the Pooh and the Blustery Day (1968)|Animation|Children|Musical                  |5.0   |5.0   |\n",
            "|Seven (a.k.a. Se7en) (1995)                |Mystery|Thriller                            |5.0   |5.0   |\n",
            "|Three Caballeros, The (1945)               |Animation|Children|Musical                  |5.0   |5.0   |\n",
            "|Bottle Rocket (1996)                       |Adventure|Comedy|Crime|Romance              |5.0   |5.0   |\n",
            "|Sword in the Stone, The (1963)             |Animation|Children|Fantasy|Musical          |5.0   |5.0   |\n",
            "|Canadian Bacon (1995)                      |Comedy|War                                  |5.0   |5.0   |\n",
            "|Dumbo (1941)                               |Animation|Children|Drama|Musical            |5.0   |5.0   |\n",
            "|Billy Madison (1995)                       |Comedy                                      |5.0   |5.0   |\n",
            "|Bedknobs and Broomsticks (1971)            |Adventure|Children|Musical                  |5.0   |5.0   |\n",
            "|Star Wars: Episode IV - A New Hope (1977)  |Action|Adventure|Sci-Fi                     |5.0   |5.0   |\n",
            "|Alice in Wonderland (1951)                 |Adventure|Animation|Children|Fantasy|Musical|5.0   |5.0   |\n",
            "|Fugitive, The (1993)                       |Thriller                                    |5.0   |5.0   |\n",
            "|Ghost and the Darkness, The (1996)         |Action|Adventure                            |5.0   |5.0   |\n",
            "|Tombstone (1993)                           |Action|Drama|Western                        |5.0   |5.0   |\n",
            "|Willy Wonka & the Chocolate Factory (1971) |Children|Comedy|Fantasy|Musical             |5.0   |5.0   |\n",
            "|Fargo (1996)                               |Comedy|Crime|Drama|Thriller                 |5.0   |5.0   |\n",
            "|Monty Python's Life of Brian (1979)        |Comedy                                      |5.0   |5.0   |\n",
            "|Wizard of Oz, The (1939)                   |Adventure|Children|Fantasy|Musical          |5.0   |5.0   |\n",
            "+-------------------------------------------+--------------------------------------------+------+------+\n",
            "only showing top 20 rows\n",
            "\n"
          ],
          "name": "stdout"
        }
      ]
    },
    {
      "cell_type": "code",
      "metadata": {
        "id": "ONbQsoUvEW53",
        "colab": {
          "base_uri": "https://localhost:8080/"
        },
        "outputId": "29293e02-9407-439b-bc07-d16567f8ac80"
      },
      "source": [
        "df_movies_ratings\\\n",
        "    .select(\"title\", \"genres\", \"rating\")\\\n",
        "    .filter(F.col(\"genres\")\\\n",
        "    .like(\"%Fantasy%\"))\\\n",
        "    .orderBy(\"rating\", ascending=False)\\\n",
        "    .show(truncate=False)"
      ],
      "execution_count": 73,
      "outputs": [
        {
          "output_type": "stream",
          "text": [
            "+-------------------------------------------+---------------------------------------------------------+------+\n",
            "|title                                      |genres                                                   |rating|\n",
            "+-------------------------------------------+---------------------------------------------------------+------+\n",
            "|Black Cauldron, The (1985)                 |Adventure|Animation|Children|Fantasy                     |5.0   |\n",
            "|Fantasia (1940)                            |Animation|Children|Fantasy|Musical                       |5.0   |\n",
            "|Conan the Barbarian (1982)                 |Action|Adventure|Fantasy                                 |5.0   |\n",
            "|Pinocchio (1940)                           |Animation|Children|Fantasy|Musical                       |5.0   |\n",
            "|Goonies, The (1985)                        |Action|Adventure|Children|Comedy|Fantasy                 |5.0   |\n",
            "|Wizard of Oz, The (1939)                   |Adventure|Children|Fantasy|Musical                       |5.0   |\n",
            "|Indiana Jones and the Temple of Doom (1984)|Action|Adventure|Fantasy                                 |5.0   |\n",
            "|Alice in Wonderland (1951)                 |Adventure|Animation|Children|Fantasy|Musical             |5.0   |\n",
            "|Lord of the Rings, The (1978)              |Adventure|Animation|Children|Fantasy                     |5.0   |\n",
            "|Monty Python and the Holy Grail (1975)     |Adventure|Comedy|Fantasy                                 |5.0   |\n",
            "|NeverEnding Story, The (1984)              |Adventure|Children|Fantasy                               |5.0   |\n",
            "|Highlander (1986)                          |Action|Adventure|Fantasy                                 |5.0   |\n",
            "|Edward Scissorhands (1990)                 |Drama|Fantasy|Romance                                    |5.0   |\n",
            "|Dogma (1999)                               |Adventure|Comedy|Fantasy                                 |5.0   |\n",
            "|Wolf Man, The (1941)                       |Drama|Fantasy|Horror                                     |5.0   |\n",
            "|Sword in the Stone, The (1963)             |Animation|Children|Fantasy|Musical                       |5.0   |\n",
            "|Excalibur (1981)                           |Adventure|Fantasy                                        |5.0   |\n",
            "|Princess Bride, The (1987)                 |Action|Adventure|Comedy|Fantasy|Romance                  |5.0   |\n",
            "|Who Framed Roger Rabbit? (1988)            |Adventure|Animation|Children|Comedy|Crime|Fantasy|Mystery|5.0   |\n",
            "|James and the Giant Peach (1996)           |Adventure|Animation|Children|Fantasy|Musical             |5.0   |\n",
            "+-------------------------------------------+---------------------------------------------------------+------+\n",
            "only showing top 20 rows\n",
            "\n"
          ],
          "name": "stdout"
        }
      ]
    },
    {
      "cell_type": "code",
      "metadata": {
        "id": "AgEwzdr1KLXr",
        "colab": {
          "base_uri": "https://localhost:8080/"
        },
        "outputId": "b07cb828-978d-4d78-f54a-3e7d102fc444"
      },
      "source": [
        "dimensions = [\"title\",\"genres\",\"rating\"]\n",
        "metrics = [\"rating\"]\n",
        "dim_df_movies_ratings = df_movies_ratings.groupBy(dimensions).count()\n",
        "dim_df_movies_ratings.show()"
      ],
      "execution_count": 74,
      "outputs": [
        {
          "output_type": "stream",
          "text": [
            "+--------------------+--------------------+------+-----+\n",
            "|               title|              genres|rating|count|\n",
            "+--------------------+--------------------+------+-----+\n",
            "|Starship Troopers...|       Action|Sci-Fi|   3.0|   17|\n",
            "|    Hangar 18 (1980)|Action|Sci-Fi|Thr...|   5.0|    1|\n",
            "| Multiplicity (1996)|              Comedy|   2.0|    5|\n",
            "|Seven Samurai (Sh...|Action|Adventure|...|   5.0|   14|\n",
            "|A.I. Artificial I...|Adventure|Drama|S...|   4.5|    3|\n",
            "| Aviator, The (2004)|               Drama|   3.5|    6|\n",
            "|Planes, Trains & ...|              Comedy|   3.5|    3|\n",
            "|Flickering Lights...| Action|Comedy|Crime|   4.5|    1|\n",
            "|    Hitchcock (2012)|               Drama|   3.5|    3|\n",
            "|       Splash (1984)|Comedy|Fantasy|Ro...|   3.0|   14|\n",
            "|Miss Congeniality...|        Comedy|Crime|   3.5|   13|\n",
            "|The Man from U.N....|Action|Adventure|...|   3.5|    5|\n",
            "|French Connection...|Action|Crime|Thri...|   4.5|    5|\n",
            "|      Ben-Hur (1959)|Action|Adventure|...|   4.0|   11|\n",
            "|Hidden Figures (2...|               Drama|   3.0|    1|\n",
            "|Don Camillo in Mo...|              Comedy|   3.0|    1|\n",
            "|Men in Black III ...|Action|Comedy|Sci...|   3.5|    6|\n",
            "|   Flatliners (1990)|Horror|Sci-Fi|Thr...|   4.0|    3|\n",
            "|         Taxi (1998)|       Action|Comedy|   5.0|    1|\n",
            "|Snakes on a Plane...|Action|Comedy|Hor...|   3.5|    2|\n",
            "+--------------------+--------------------+------+-----+\n",
            "only showing top 20 rows\n",
            "\n"
          ],
          "name": "stdout"
        }
      ]
    },
    {
      "cell_type": "code",
      "metadata": {
        "id": "2GJFHGfaKWwY",
        "colab": {
          "base_uri": "https://localhost:8080/"
        },
        "outputId": "cd4e5cd6-d698-456c-de13-9fd3e749fe65"
      },
      "source": [
        "groupby_genres = df_movies_ratings.groupBy(\"genres\").count()\n",
        "groupby_genres.show()"
      ],
      "execution_count": 75,
      "outputs": [
        {
          "output_type": "stream",
          "text": [
            "+--------------------+-----+\n",
            "|              genres|count|\n",
            "+--------------------+-----+\n",
            "|Adventure|Sci-Fi|...|   33|\n",
            "|Comedy|Horror|Thr...|  115|\n",
            "|Action|Adventure|...|  204|\n",
            "| Action|Drama|Horror|   20|\n",
            "|Action|Animation|...|    7|\n",
            "|Action|Adventure|...|  479|\n",
            "|    Adventure|Sci-Fi|  128|\n",
            "|Animation|Childre...|  115|\n",
            "|Adventure|Childre...|    2|\n",
            "|Documentary|Music...|    1|\n",
            "| Adventure|Animation|    2|\n",
            "| Musical|Romance|War|    9|\n",
            "|Comedy|Crime|Horr...|    2|\n",
            "|Adventure|Childre...|   17|\n",
            "|Crime|Drama|Fanta...|    3|\n",
            "|Action|Adventure|...|    9|\n",
            "|   Adventure|Fantasy|  584|\n",
            "|Comedy|Mystery|Th...|   47|\n",
            "|Horror|Romance|Sc...|    1|\n",
            "|Drama|Film-Noir|R...|   33|\n",
            "+--------------------+-----+\n",
            "only showing top 20 rows\n",
            "\n"
          ],
          "name": "stdout"
        }
      ]
    },
    {
      "cell_type": "markdown",
      "metadata": {
        "id": "HDXg4b1SFlIu"
      },
      "source": [
        "# **4.0. Análise Exploratória de Dados com Koalas**\n",
        "\n",
        "O **Koalas** é um projeto de código aberto que fornece uma substituição de lista de entrega para o Pandas. Amplamente utilizado em Data Science, o Pandas é um pacote python que fornece estruturas de dados fáceis de usar e ferramentas de análise de dados para a linguagem de programação Python. No entanto, o Pandas não é escalado para Big Data. O Koalas preenche essa lacuna fornecendo APIs equivalentes do Pandas que funcionam em Apache Spark. O Koalas é útil não apenas para usuários pandas, mas também para usuários PySpark, porque o Koalas dá suporte a muitas tarefas difíceis de fazer com o PySpark, por exemplo, plotando dados diretamente de um DataFrame pySpark.\n",
        "\n",
        "\n",
        "<center>\n",
        "<img class=\"one\" src=\"https://databricks.com/wp-content/uploads/2020/08/Koalas-logo-og.png\"  height=\"150\"><br>\n",
        "</center>"
      ]
    },
    {
      "cell_type": "code",
      "metadata": {
        "id": "udW0jEJAFqBk"
      },
      "source": [
        "dfRatingsKdf = df_ratings.to_koalas()"
      ],
      "execution_count": 76,
      "outputs": []
    },
    {
      "cell_type": "code",
      "metadata": {
        "colab": {
          "base_uri": "https://localhost:8080/",
          "height": 431
        },
        "id": "xIU4NV_4HSH5",
        "outputId": "9ef88505-aaf4-40d1-8d4b-491060e59aed"
      },
      "source": [
        "%%time\n",
        "movieRatingDistGroup = dfRatingsKdf['rating'].value_counts() \\\n",
        "                                             .sort_index() \\\n",
        "                                             .reset_index() \\\n",
        "                                             .to_pandas()\n",
        "\n",
        "# Criando uma figura Matplotlib\n",
        "fig, ax = plt.subplots(figsize=(12,6))\n",
        "\n",
        "# Figura Principal: Seaborn Barplot\n",
        "sns.barplot(data=movieRatingDistGroup, x='index', y='rating',\n",
        "            palette='RdYlGn', edgecolor=\"black\", ax=ax)\n",
        "\n",
        "# Configurando o eixo X e Y\n",
        "ax.set_xlabel(\"User-Movie Ratings\")\n",
        "ax.set_ylabel('Nb. of Users')\n",
        "ax.xaxis.set_tick_params(rotation=45)\n",
        "\n",
        "# Separador no eixo y\n",
        "ax.set_yticklabels(['{:,}'.format(int(x)) for x in ax.get_yticks().tolist()])\n",
        "\n",
        "# Adicionando o texto de porcentagem em cima de cada barra\n",
        "total = float(movieRatingDistGroup['rating'].sum())\n",
        "for p in ax.patches:\n",
        "    height = p.get_height()\n",
        "    ax.text(p.get_x()+p.get_width()/2.,\n",
        "            height+350,\n",
        "            '{0:.0%}'.format(height/total),\n",
        "            ha=\"center\") \n",
        "\n",
        "# Visualizando o plot\n",
        "plt.show()"
      ],
      "execution_count": 77,
      "outputs": [
        {
          "output_type": "display_data",
          "data": {
            "image/png": "[encoded data removed]",
            "text/plain": [
              "<Figure size 864x432 with 1 Axes>"
            ]
          },
          "metadata": {
            "tags": [],
            "needs_background": "light"
          }
        },
        {
          "output_type": "stream",
          "text": [
            "CPU times: user 277 ms, sys: 16.1 ms, total: 293 ms\n",
            "Wall time: 2.95 s\n"
          ],
          "name": "stdout"
        }
      ]
    },
    {
      "cell_type": "markdown",
      "metadata": {
        "id": "nhWLOhsuBbEe"
      },
      "source": [
        "## **Referências**\n",
        "\n",
        "[Data Science: Primeiros passos](https://github.com/alura-cursos/introducao-a-data-science/)\n",
        "\n",
        "[Designing a Scalable Movie Recommender System with Apache Spark and Google Colab](https://github.com/SJD1882/Big-Data-Recommender-Systems)\n",
        "\n"
      ]
    }
  ]
}