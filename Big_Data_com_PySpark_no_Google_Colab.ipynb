{
  "nbformat": 4,
  "nbformat_minor": 0,
  "metadata": {
    "colab": {
      "name": "Big Data com PySpark no Google Colab.ipynb",
      "provenance": [],
      "include_colab_link": true
    },
    "kernelspec": {
      "name": "python3",
      "display_name": "Python 3"
    }
  },
  "cells": [
    {
      "cell_type": "markdown",
      "metadata": {
        "id": "view-in-github",
        "colab_type": "text"
      },
      "source": [
        "<a href=\"https://colab.research.google.com/github/lis-r-barreto/Big-Data-com-PySpark/blob/master/Big_Data_com_PySpark_no_Google_Colab.ipynb\" target=\"_parent\"><img src=\"https://colab.research.google.com/assets/colab-badge.svg\" alt=\"Open In Colab\"/></a>"
      ]
    },
    {
      "cell_type": "markdown",
      "metadata": {
        "id": "Yj5eswa9ZzWS"
      },
      "source": [
        "# **Big Data com PySpark no Google Colab**\n",
        "\n",
        "<img class=\"one\" src=\"https://aprendizadodemaquina.com/media/filer_public_thumbnails/filer_public/3a/65/3a658469-383e-4c1d-b4fb-502229858579/pyspark.png__800x450_q85_crop_subsampling-2.png\"  height=\"150\"><br>\n",
        "\n",
        "\n",
        "A biblioteca PySpark permite você criar seu servidor Apache Spark, trabalhar com grandes volumes de dados e até mesmo fazer streaming em tempo real."
      ]
    },
    {
      "cell_type": "markdown",
      "metadata": {
        "id": "pci_oK13fzX0"
      },
      "source": [
        "##**1. Configurações**"
      ]
    },
    {
      "cell_type": "code",
      "metadata": {
        "id": "Oz_8sWI7PKEl"
      },
      "source": [
        "# Instalando as dependências\n",
        "!apt-get install openjdk-8-jdk-headless -qq > /dev/null\n",
        "!wget -q https://archive.apache.org/dist/spark/spark-2.4.4/spark-2.4.4-bin-hadoop2.7.tgz\n",
        "!tar xf spark-2.4.4-bin-hadoop2.7.tgz\n",
        "!pip install -q findspark"
      ],
      "execution_count": 1,
      "outputs": []
    },
    {
      "cell_type": "markdown",
      "metadata": {
        "id": "cabkOXVRPYgq"
      },
      "source": [
        "A próxima etapa é configurar as variáveis de ambiente, pois isso habilita o ambiente do Colab a identificar corretamente onde as dependências estão rodando.\n",
        "\n",
        "Para conseguir “manipular” o terminal e interagir como ele, você pode usar a biblioteca os."
      ]
    },
    {
      "cell_type": "code",
      "metadata": {
        "id": "RkpG11RQPbRf"
      },
      "source": [
        "# Configurando as variáveis de ambiente\n",
        "import os\n",
        "os.environ[\"JAVA_HOME\"] = \"/usr/lib/jvm/java-8-openjdk-amd64\"\n",
        "os.environ[\"SPARK_HOME\"] = \"/content/spark-2.4.4-bin-hadoop2.7\"\n",
        "\n",
        "# Tornando o pyspark \"importável\"\n",
        "import findspark\n",
        "findspark.init('spark-2.4.4-bin-hadoop2.7')"
      ],
      "execution_count": 2,
      "outputs": []
    },
    {
      "cell_type": "markdown",
      "metadata": {
        "id": "Klur5aiRPdqx"
      },
      "source": [
        "Com tudo pronto, vamos rodar uma sessão local para testar se a instalação funcionou corretamente."
      ]
    },
    {
      "cell_type": "code",
      "metadata": {
        "id": "gpJqWggpPKXO",
        "colab": {
          "base_uri": "https://localhost:8080/"
        },
        "outputId": "011c2844-1bef-4a62-8056-3b474de0043e"
      },
      "source": [
        "# Iniciando uma sessão local e importando os dados\n",
        "from pyspark.sql import *\n",
        "\n",
        "sc = SparkSession.builder.master('local[*]').getOrCreate()\n",
        "\n",
        "# Download do http para arquivo local\n",
        "!wget --quiet --show-progress https://raw.githubusercontent.com/lis-r-barreto/Big-Data-com-PySpark/master/data-movielens/movies.csv\n",
        "\n",
        "!wget --quiet --show-progress https://raw.githubusercontent.com/lis-r-barreto/Big-Data-com-PySpark/master/data-movielens/ratings.csv\n",
        "\n",
        "# Carregando dados\n",
        "df_movies = sc.read.csv(\"./movies.csv\", inferSchema=True, header=True)\n",
        "df_ratings = sc.read.csv(\"./ratings.csv\", inferSchema=True, header=True)"
      ],
      "execution_count": 23,
      "outputs": [
        {
          "output_type": "stream",
          "text": [
            "movies.csv.3        100%[===================>] 482.84K  --.-KB/s    in 0.06s   \n",
            "ratings.csv.3       100%[===================>]   2.37M  12.4MB/s    in 0.2s    \n"
          ],
          "name": "stdout"
        }
      ]
    },
    {
      "cell_type": "code",
      "metadata": {
        "colab": {
          "base_uri": "https://localhost:8080/"
        },
        "id": "7S1DIYFiTbAq",
        "outputId": "718523cd-4415-4bc0-fcc0-bc55fb3c3207"
      },
      "source": [
        "df_movies.show(5)"
      ],
      "execution_count": 14,
      "outputs": [
        {
          "output_type": "stream",
          "text": [
            "+-------+--------------------+--------------------+\n",
            "|movieId|               title|              genres|\n",
            "+-------+--------------------+--------------------+\n",
            "|      1|    Toy Story (1995)|Adventure|Animati...|\n",
            "|      2|      Jumanji (1995)|Adventure|Childre...|\n",
            "|      3|Grumpier Old Men ...|      Comedy|Romance|\n",
            "|      4|Waiting to Exhale...|Comedy|Drama|Romance|\n",
            "|      5|Father of the Bri...|              Comedy|\n",
            "+-------+--------------------+--------------------+\n",
            "only showing top 5 rows\n",
            "\n"
          ],
          "name": "stdout"
        }
      ]
    },
    {
      "cell_type": "code",
      "metadata": {
        "colab": {
          "base_uri": "https://localhost:8080/"
        },
        "id": "lalG2Rr5Tfrp",
        "outputId": "b949ae39-e5ee-4b20-f4be-ad9b6b923c35"
      },
      "source": [
        "df_ratings.show(5)"
      ],
      "execution_count": 5,
      "outputs": [
        {
          "output_type": "stream",
          "text": [
            "+------+-------+------+---------+\n",
            "|userId|movieId|rating|timestamp|\n",
            "+------+-------+------+---------+\n",
            "|     1|      1|   4.0|964982703|\n",
            "|     1|      3|   4.0|964981247|\n",
            "|     1|      6|   4.0|964982224|\n",
            "|     1|     47|   5.0|964983815|\n",
            "|     1|     50|   5.0|964982931|\n",
            "+------+-------+------+---------+\n",
            "only showing top 5 rows\n",
            "\n"
          ],
          "name": "stdout"
        }
      ]
    },
    {
      "cell_type": "markdown",
      "metadata": {
        "id": "VeSpyikJ9xR4"
      },
      "source": [
        "##**2. Manipulação dos Dados**\n",
        "\n",
        "Para manipular os dados usaremos os métodos do PySpark, pois são mais rápidos que usar SQL além de ser mais intuitivo e ter menos retrabalho no código. "
      ]
    },
    {
      "cell_type": "code",
      "metadata": {
        "colab": {
          "base_uri": "https://localhost:8080/"
        },
        "id": "XuYWL05wVpHo",
        "outputId": "35d05e76-4b76-44a6-86e5-ab0360d29bf8"
      },
      "source": [
        "inner_join_movies_ratings = df_movies.join(df_ratings, df_movies.movieId == df_ratings.movieId, 'inner')\n",
        "inner_join_movies_ratings.show(5)"
      ],
      "execution_count": 26,
      "outputs": [
        {
          "output_type": "stream",
          "text": [
            "+-------+--------------------+--------------------+------+-------+------+---------+\n",
            "|movieId|               title|              genres|userId|movieId|rating|timestamp|\n",
            "+-------+--------------------+--------------------+------+-------+------+---------+\n",
            "|      1|    Toy Story (1995)|Adventure|Animati...|     1|      1|   4.0|964982703|\n",
            "|      3|Grumpier Old Men ...|      Comedy|Romance|     1|      3|   4.0|964981247|\n",
            "|      6|         Heat (1995)|Action|Crime|Thri...|     1|      6|   4.0|964982224|\n",
            "|     47|Seven (a.k.a. Se7...|    Mystery|Thriller|     1|     47|   5.0|964983815|\n",
            "|     50|Usual Suspects, T...|Crime|Mystery|Thr...|     1|     50|   5.0|964982931|\n",
            "+-------+--------------------+--------------------+------+-------+------+---------+\n",
            "only showing top 5 rows\n",
            "\n"
          ],
          "name": "stdout"
        }
      ]
    },
    {
      "cell_type": "code",
      "metadata": {
        "colab": {
          "base_uri": "https://localhost:8080/"
        },
        "id": "D0-GujEuUEaP",
        "outputId": "b804a00d-5a73-45d3-b62e-fd38f5f92a7d"
      },
      "source": [
        "# Vendo algumas informações sobre os tipos de dados de cada coluna\n",
        "df_movies_ratings = inner_join_movies_ratings\n",
        "df_movies_ratings.printSchema()"
      ],
      "execution_count": 27,
      "outputs": [
        {
          "output_type": "stream",
          "text": [
            "root\n",
            " |-- movieId: integer (nullable = true)\n",
            " |-- title: string (nullable = true)\n",
            " |-- genres: string (nullable = true)\n",
            " |-- userId: integer (nullable = true)\n",
            " |-- movieId: integer (nullable = true)\n",
            " |-- rating: double (nullable = true)\n",
            " |-- timestamp: integer (nullable = true)\n",
            "\n"
          ],
          "name": "stdout"
        }
      ]
    },
    {
      "cell_type": "code",
      "metadata": {
        "colab": {
          "base_uri": "https://localhost:8080/"
        },
        "id": "T8cqktDMUOuS",
        "outputId": "ae494671-2279-409b-df39-86feae6e9ae4"
      },
      "source": [
        "df_movies_ratings.summary().show()"
      ],
      "execution_count": 28,
      "outputs": [
        {
          "output_type": "stream",
          "text": [
            "+-------+----------------+--------------------+------------------+------------------+----------------+------------------+--------------------+\n",
            "|summary|         movieId|               title|            genres|            userId|         movieId|            rating|           timestamp|\n",
            "+-------+----------------+--------------------+------------------+------------------+----------------+------------------+--------------------+\n",
            "|  count|          100836|              100836|            100836|            100836|          100836|            100836|              100836|\n",
            "|   mean|19435.2957177992|                null|              null|326.12756356856676|19435.2957177992| 3.501556983616962|1.2059460873684695E9|\n",
            "| stddev|35530.9871987003|                null|              null| 182.6184914635004|35530.9871987003|1.0425292390606342|2.1626103599513078E8|\n",
            "|    min|               1|\"11'09\"\"01 - Sept...|(no genres listed)|                 1|               1|               0.5|           828124615|\n",
            "|    25%|            1199|                null|              null|               177|            1199|               3.0|          1018535155|\n",
            "|    50%|            2991|                null|              null|               325|            2991|               3.5|          1186086516|\n",
            "|    75%|            8092|                null|              null|               477|            8092|               4.0|          1435993828|\n",
            "|    max|          193609|À nous la liberté...|           Western|               610|          193609|               5.0|          1537799250|\n",
            "+-------+----------------+--------------------+------------------+------------------+----------------+------------------+--------------------+\n",
            "\n"
          ],
          "name": "stdout"
        }
      ]
    },
    {
      "cell_type": "code",
      "metadata": {
        "colab": {
          "base_uri": "https://localhost:8080/"
        },
        "id": "SjH5GvP9eniS",
        "outputId": "46b0a2cc-a84b-4fd5-d2bd-d67d18f67f87"
      },
      "source": [
        "df_movies_ratings.drop(\"userId\", \"timestamp\").show()"
      ],
      "execution_count": 29,
      "outputs": [
        {
          "output_type": "stream",
          "text": [
            "+-------+--------------------+--------------------+-------+------+\n",
            "|movieId|               title|              genres|movieId|rating|\n",
            "+-------+--------------------+--------------------+-------+------+\n",
            "|      1|    Toy Story (1995)|Adventure|Animati...|      1|   4.0|\n",
            "|      3|Grumpier Old Men ...|      Comedy|Romance|      3|   4.0|\n",
            "|      6|         Heat (1995)|Action|Crime|Thri...|      6|   4.0|\n",
            "|     47|Seven (a.k.a. Se7...|    Mystery|Thriller|     47|   5.0|\n",
            "|     50|Usual Suspects, T...|Crime|Mystery|Thr...|     50|   5.0|\n",
            "|     70|From Dusk Till Da...|Action|Comedy|Hor...|     70|   3.0|\n",
            "|    101|Bottle Rocket (1996)|Adventure|Comedy|...|    101|   5.0|\n",
            "|    110|   Braveheart (1995)|    Action|Drama|War|    110|   4.0|\n",
            "|    151|      Rob Roy (1995)|Action|Drama|Roma...|    151|   5.0|\n",
            "|    157|Canadian Bacon (1...|          Comedy|War|    157|   5.0|\n",
            "|    163|    Desperado (1995)|Action|Romance|We...|    163|   5.0|\n",
            "|    216|Billy Madison (1995)|              Comedy|    216|   5.0|\n",
            "|    223|       Clerks (1994)|              Comedy|    223|   3.0|\n",
            "|    231|Dumb & Dumber (Du...|    Adventure|Comedy|    231|   5.0|\n",
            "|    235|      Ed Wood (1994)|        Comedy|Drama|    235|   4.0|\n",
            "|    260|Star Wars: Episod...|Action|Adventure|...|    260|   5.0|\n",
            "|    296| Pulp Fiction (1994)|Comedy|Crime|Dram...|    296|   3.0|\n",
            "|    316|     Stargate (1994)|Action|Adventure|...|    316|   3.0|\n",
            "|    333|    Tommy Boy (1995)|              Comedy|    333|   5.0|\n",
            "|    349|Clear and Present...|Action|Crime|Dram...|    349|   4.0|\n",
            "+-------+--------------------+--------------------+-------+------+\n",
            "only showing top 20 rows\n",
            "\n"
          ],
          "name": "stdout"
        }
      ]
    },
    {
      "cell_type": "code",
      "metadata": {
        "colab": {
          "base_uri": "https://localhost:8080/"
        },
        "id": "o463R0P9-Ojc",
        "outputId": "c2ea34f9-66ff-487d-fd48-6835d652b1e7"
      },
      "source": [
        "df_movies_ratings.describe(\"genres\").show()"
      ],
      "execution_count": 30,
      "outputs": [
        {
          "output_type": "stream",
          "text": [
            "+-------+------------------+\n",
            "|summary|            genres|\n",
            "+-------+------------------+\n",
            "|  count|            100836|\n",
            "|   mean|              null|\n",
            "| stddev|              null|\n",
            "|    min|(no genres listed)|\n",
            "|    max|           Western|\n",
            "+-------+------------------+\n",
            "\n"
          ],
          "name": "stdout"
        }
      ]
    },
    {
      "cell_type": "code",
      "metadata": {
        "colab": {
          "base_uri": "https://localhost:8080/"
        },
        "id": "mqfDj91MTv3m",
        "outputId": "752448b9-0ea5-4315-a531-703b2ec72181"
      },
      "source": [
        "df_movies_ratings.describe(\"rating\").show()"
      ],
      "execution_count": 31,
      "outputs": [
        {
          "output_type": "stream",
          "text": [
            "+-------+------------------+\n",
            "|summary|            rating|\n",
            "+-------+------------------+\n",
            "|  count|            100836|\n",
            "|   mean| 3.501556983616962|\n",
            "| stddev|1.0425292390606342|\n",
            "|    min|               0.5|\n",
            "|    max|               5.0|\n",
            "+-------+------------------+\n",
            "\n"
          ],
          "name": "stdout"
        }
      ]
    },
    {
      "cell_type": "code",
      "metadata": {
        "colab": {
          "base_uri": "https://localhost:8080/"
        },
        "id": "sTdq94-jBU55",
        "outputId": "3027e3f2-56fd-42fd-b440-ea773d3832bf"
      },
      "source": [
        "df_movies_ratings.select(\"rating\").distinct().show()"
      ],
      "execution_count": 32,
      "outputs": [
        {
          "output_type": "stream",
          "text": [
            "+------+\n",
            "|rating|\n",
            "+------+\n",
            "|   3.5|\n",
            "|   4.5|\n",
            "|   2.5|\n",
            "|   1.0|\n",
            "|   4.0|\n",
            "|   0.5|\n",
            "|   3.0|\n",
            "|   2.0|\n",
            "|   1.5|\n",
            "|   5.0|\n",
            "+------+\n",
            "\n"
          ],
          "name": "stdout"
        }
      ]
    },
    {
      "cell_type": "code",
      "metadata": {
        "colab": {
          "base_uri": "https://localhost:8080/"
        },
        "id": "qKcg2BXSB-VV",
        "outputId": "78d44846-69d9-4142-afc6-99296f9d1c0c"
      },
      "source": [
        "df_movies_ratings.select(\"title\", \"genres\", \"rating\").filter(col(\"rating\") >= 4.9).show(truncate=False)"
      ],
      "execution_count": 33,
      "outputs": [
        {
          "output_type": "stream",
          "text": [
            "+-----------------------------------------+--------------------------------------------+------+\n",
            "|title                                    |genres                                      |rating|\n",
            "+-----------------------------------------+--------------------------------------------+------+\n",
            "|Seven (a.k.a. Se7en) (1995)              |Mystery|Thriller                            |5.0   |\n",
            "|Usual Suspects, The (1995)               |Crime|Mystery|Thriller                      |5.0   |\n",
            "|Bottle Rocket (1996)                     |Adventure|Comedy|Crime|Romance              |5.0   |\n",
            "|Rob Roy (1995)                           |Action|Drama|Romance|War                    |5.0   |\n",
            "|Canadian Bacon (1995)                    |Comedy|War                                  |5.0   |\n",
            "|Desperado (1995)                         |Action|Romance|Western                      |5.0   |\n",
            "|Billy Madison (1995)                     |Comedy                                      |5.0   |\n",
            "|Dumb & Dumber (Dumb and Dumber) (1994)   |Adventure|Comedy                            |5.0   |\n",
            "|Star Wars: Episode IV - A New Hope (1977)|Action|Adventure|Sci-Fi                     |5.0   |\n",
            "|Tommy Boy (1995)                         |Comedy                                      |5.0   |\n",
            "|Jungle Book, The (1994)                  |Adventure|Children|Romance                  |5.0   |\n",
            "|Fugitive, The (1993)                     |Thriller                                    |5.0   |\n",
            "|Schindler's List (1993)                  |Drama|War                                   |5.0   |\n",
            "|Tombstone (1993)                         |Action|Drama|Western                        |5.0   |\n",
            "|Pinocchio (1940)                         |Animation|Children|Fantasy|Musical          |5.0   |\n",
            "|Fargo (1996)                             |Comedy|Crime|Drama|Thriller                 |5.0   |\n",
            "|James and the Giant Peach (1996)         |Adventure|Animation|Children|Fantasy|Musical|5.0   |\n",
            "|Wizard of Oz, The (1939)                 |Adventure|Children|Fantasy|Musical          |5.0   |\n",
            "|Citizen Kane (1941)                      |Drama|Mystery                               |5.0   |\n",
            "|Adventures of Robin Hood, The (1938)     |Action|Adventure|Romance                    |5.0   |\n",
            "+-----------------------------------------+--------------------------------------------+------+\n",
            "only showing top 20 rows\n",
            "\n"
          ],
          "name": "stdout"
        }
      ]
    },
    {
      "cell_type": "code",
      "metadata": {
        "colab": {
          "base_uri": "https://localhost:8080/"
        },
        "id": "MxfqfnlBC94M",
        "outputId": "8c309171-94e5-45d1-fff5-e2365d977517"
      },
      "source": [
        "df_movies_ratings\\\n",
        "    .select(\"title\",\"genres\",\"rating\")\\\n",
        "    .orderBy(\"rating\").show(truncate=False)"
      ],
      "execution_count": 34,
      "outputs": [
        {
          "output_type": "stream",
          "text": [
            "+---------------------------------------------------+----------------------------------------+------+\n",
            "|title                                              |genres                                  |rating|\n",
            "+---------------------------------------------------+----------------------------------------+------+\n",
            "|As Good as It Gets (1997)                          |Comedy|Drama|Romance                    |0.5   |\n",
            "|Joy Ride (2001)                                    |Adventure|Thriller                      |0.5   |\n",
            "|Pearl Harbor (2001)                                |Action|Drama|Romance|War                |0.5   |\n",
            "|Requiem for a Dream (2000)                         |Drama                                   |0.5   |\n",
            "|Star Wars: Episode II - Attack of the Clones (2002)|Action|Adventure|Sci-Fi|IMAX            |0.5   |\n",
            "|Snow Dogs (2002)                                   |Adventure|Children|Comedy               |0.5   |\n",
            "|Hulk (2003)                                        |Action|Adventure|Sci-Fi                 |0.5   |\n",
            "|Schindler's List (1993)                            |Drama|War                               |0.5   |\n",
            "|Lady in the Water (2006)                           |Drama|Fantasy|Mystery                   |0.5   |\n",
            "|Operation Dumbo Drop (1995)                        |Action|Adventure|Comedy|War             |0.5   |\n",
            "|Holiday, The (2006)                                |Comedy|Romance                          |0.5   |\n",
            "|On Golden Pond (1981)                              |Drama                                   |0.5   |\n",
            "|Mary Poppins (1964)                                |Children|Comedy|Fantasy|Musical         |0.5   |\n",
            "|Patton (1970)                                      |Drama|War                               |0.5   |\n",
            "|Matrix, The (1999)                                 |Action|Sci-Fi|Thriller                  |0.5   |\n",
            "|Bambi (1942)                                       |Animation|Children|Drama                |0.5   |\n",
            "|Sixth Sense, The (1999)                            |Drama|Horror|Mystery                    |0.5   |\n",
            "|Rescuers, The (1977)                               |Adventure|Animation|Children|Crime|Drama|0.5   |\n",
            "|Fight Club (1999)                                  |Action|Crime|Drama|Thriller             |0.5   |\n",
            "|Fast Times at Ridgemont High (1982)                |Comedy|Drama|Romance                    |0.5   |\n",
            "+---------------------------------------------------+----------------------------------------+------+\n",
            "only showing top 20 rows\n",
            "\n"
          ],
          "name": "stdout"
        }
      ]
    },
    {
      "cell_type": "code",
      "metadata": {
        "colab": {
          "base_uri": "https://localhost:8080/"
        },
        "id": "Ga4D3E6ZDVz6",
        "outputId": "a852fb5a-4394-4475-8055-c3cadeb6091a"
      },
      "source": [
        "df_movies_ratings\\\n",
        "    .select(\"title\",\"genres\",\"rating\", round(col(\"rating\"), 1)\\\n",
        "    .alias(\"rating\"))\\\n",
        "    .orderBy(\"rating\", ascending=False).show(truncate=False)"
      ],
      "execution_count": 35,
      "outputs": [
        {
          "output_type": "stream",
          "text": [
            "+-------------------------------------------+--------------------------------------------+------+------+\n",
            "|title                                      |genres                                      |rating|rating|\n",
            "+-------------------------------------------+--------------------------------------------+------+------+\n",
            "|Mr. Smith Goes to Washington (1939)        |Drama                                       |5.0   |5.0   |\n",
            "|Blues Brothers, The (1980)                 |Action|Comedy|Musical                       |5.0   |5.0   |\n",
            "|Winnie the Pooh and the Blustery Day (1968)|Animation|Children|Musical                  |5.0   |5.0   |\n",
            "|Seven (a.k.a. Se7en) (1995)                |Mystery|Thriller                            |5.0   |5.0   |\n",
            "|Three Caballeros, The (1945)               |Animation|Children|Musical                  |5.0   |5.0   |\n",
            "|Bottle Rocket (1996)                       |Adventure|Comedy|Crime|Romance              |5.0   |5.0   |\n",
            "|Sword in the Stone, The (1963)             |Animation|Children|Fantasy|Musical          |5.0   |5.0   |\n",
            "|Canadian Bacon (1995)                      |Comedy|War                                  |5.0   |5.0   |\n",
            "|Dumbo (1941)                               |Animation|Children|Drama|Musical            |5.0   |5.0   |\n",
            "|Billy Madison (1995)                       |Comedy                                      |5.0   |5.0   |\n",
            "|Bedknobs and Broomsticks (1971)            |Adventure|Children|Musical                  |5.0   |5.0   |\n",
            "|Star Wars: Episode IV - A New Hope (1977)  |Action|Adventure|Sci-Fi                     |5.0   |5.0   |\n",
            "|Alice in Wonderland (1951)                 |Adventure|Animation|Children|Fantasy|Musical|5.0   |5.0   |\n",
            "|Fugitive, The (1993)                       |Thriller                                    |5.0   |5.0   |\n",
            "|Ghost and the Darkness, The (1996)         |Action|Adventure                            |5.0   |5.0   |\n",
            "|Tombstone (1993)                           |Action|Drama|Western                        |5.0   |5.0   |\n",
            "|Willy Wonka & the Chocolate Factory (1971) |Children|Comedy|Fantasy|Musical             |5.0   |5.0   |\n",
            "|Fargo (1996)                               |Comedy|Crime|Drama|Thriller                 |5.0   |5.0   |\n",
            "|Monty Python's Life of Brian (1979)        |Comedy                                      |5.0   |5.0   |\n",
            "|Wizard of Oz, The (1939)                   |Adventure|Children|Fantasy|Musical          |5.0   |5.0   |\n",
            "+-------------------------------------------+--------------------------------------------+------+------+\n",
            "only showing top 20 rows\n",
            "\n"
          ],
          "name": "stdout"
        }
      ]
    },
    {
      "cell_type": "code",
      "metadata": {
        "colab": {
          "base_uri": "https://localhost:8080/"
        },
        "id": "ONbQsoUvEW53",
        "outputId": "c58dc26d-0fd2-406f-d3b0-621861c9fecd"
      },
      "source": [
        "df_movies_ratings\\\n",
        "    .select(\"title\", \"genres\", \"rating\")\\\n",
        "    .filter(col(\"genres\")\\\n",
        "    .like(\"%Fantasy%\"))\\\n",
        "    .orderBy(\"rating\", ascending=False)\\\n",
        "    .show(truncate=False)"
      ],
      "execution_count": 36,
      "outputs": [
        {
          "output_type": "stream",
          "text": [
            "+-------------------------------------------+---------------------------------------------------------+------+\n",
            "|title                                      |genres                                                   |rating|\n",
            "+-------------------------------------------+---------------------------------------------------------+------+\n",
            "|Black Cauldron, The (1985)                 |Adventure|Animation|Children|Fantasy                     |5.0   |\n",
            "|Fantasia (1940)                            |Animation|Children|Fantasy|Musical                       |5.0   |\n",
            "|Conan the Barbarian (1982)                 |Action|Adventure|Fantasy                                 |5.0   |\n",
            "|Pinocchio (1940)                           |Animation|Children|Fantasy|Musical                       |5.0   |\n",
            "|Goonies, The (1985)                        |Action|Adventure|Children|Comedy|Fantasy                 |5.0   |\n",
            "|Wizard of Oz, The (1939)                   |Adventure|Children|Fantasy|Musical                       |5.0   |\n",
            "|Indiana Jones and the Temple of Doom (1984)|Action|Adventure|Fantasy                                 |5.0   |\n",
            "|Alice in Wonderland (1951)                 |Adventure|Animation|Children|Fantasy|Musical             |5.0   |\n",
            "|Lord of the Rings, The (1978)              |Adventure|Animation|Children|Fantasy                     |5.0   |\n",
            "|Monty Python and the Holy Grail (1975)     |Adventure|Comedy|Fantasy                                 |5.0   |\n",
            "|NeverEnding Story, The (1984)              |Adventure|Children|Fantasy                               |5.0   |\n",
            "|Highlander (1986)                          |Action|Adventure|Fantasy                                 |5.0   |\n",
            "|Edward Scissorhands (1990)                 |Drama|Fantasy|Romance                                    |5.0   |\n",
            "|Dogma (1999)                               |Adventure|Comedy|Fantasy                                 |5.0   |\n",
            "|Wolf Man, The (1941)                       |Drama|Fantasy|Horror                                     |5.0   |\n",
            "|Sword in the Stone, The (1963)             |Animation|Children|Fantasy|Musical                       |5.0   |\n",
            "|Excalibur (1981)                           |Adventure|Fantasy                                        |5.0   |\n",
            "|Princess Bride, The (1987)                 |Action|Adventure|Comedy|Fantasy|Romance                  |5.0   |\n",
            "|Who Framed Roger Rabbit? (1988)            |Adventure|Animation|Children|Comedy|Crime|Fantasy|Mystery|5.0   |\n",
            "|James and the Giant Peach (1996)           |Adventure|Animation|Children|Fantasy|Musical             |5.0   |\n",
            "+-------------------------------------------+---------------------------------------------------------+------+\n",
            "only showing top 20 rows\n",
            "\n"
          ],
          "name": "stdout"
        }
      ]
    },
    {
      "cell_type": "code",
      "metadata": {
        "colab": {
          "base_uri": "https://localhost:8080/"
        },
        "id": "AgEwzdr1KLXr",
        "outputId": "37c176b5-30cf-4fd1-a317-817822440b4e"
      },
      "source": [
        "dimensions = [\"title\",\"genres\",\"rating\"]\n",
        "metrics = [\"rating\"]\n",
        "dim_df_movies_ratings = df_movies_ratings.groupBy(dimensions).count()\n",
        "dim_df_movies_ratings.show()"
      ],
      "execution_count": 37,
      "outputs": [
        {
          "output_type": "stream",
          "text": [
            "+--------------------+--------------------+------+-----+\n",
            "|               title|              genres|rating|count|\n",
            "+--------------------+--------------------+------+-----+\n",
            "|Starship Troopers...|       Action|Sci-Fi|   3.0|   17|\n",
            "|    Hangar 18 (1980)|Action|Sci-Fi|Thr...|   5.0|    1|\n",
            "| Multiplicity (1996)|              Comedy|   2.0|    5|\n",
            "|Seven Samurai (Sh...|Action|Adventure|...|   5.0|   14|\n",
            "|A.I. Artificial I...|Adventure|Drama|S...|   4.5|    3|\n",
            "| Aviator, The (2004)|               Drama|   3.5|    6|\n",
            "|Planes, Trains & ...|              Comedy|   3.5|    3|\n",
            "|Flickering Lights...| Action|Comedy|Crime|   4.5|    1|\n",
            "|    Hitchcock (2012)|               Drama|   3.5|    3|\n",
            "|       Splash (1984)|Comedy|Fantasy|Ro...|   3.0|   14|\n",
            "|Miss Congeniality...|        Comedy|Crime|   3.5|   13|\n",
            "|The Man from U.N....|Action|Adventure|...|   3.5|    5|\n",
            "|French Connection...|Action|Crime|Thri...|   4.5|    5|\n",
            "|      Ben-Hur (1959)|Action|Adventure|...|   4.0|   11|\n",
            "|Hidden Figures (2...|               Drama|   3.0|    1|\n",
            "|Don Camillo in Mo...|              Comedy|   3.0|    1|\n",
            "|Men in Black III ...|Action|Comedy|Sci...|   3.5|    6|\n",
            "|   Flatliners (1990)|Horror|Sci-Fi|Thr...|   4.0|    3|\n",
            "|         Taxi (1998)|       Action|Comedy|   5.0|    1|\n",
            "|Snakes on a Plane...|Action|Comedy|Hor...|   3.5|    2|\n",
            "+--------------------+--------------------+------+-----+\n",
            "only showing top 20 rows\n",
            "\n"
          ],
          "name": "stdout"
        }
      ]
    },
    {
      "cell_type": "code",
      "metadata": {
        "colab": {
          "base_uri": "https://localhost:8080/"
        },
        "id": "2GJFHGfaKWwY",
        "outputId": "f457a953-55ba-4e55-aa78-2f836864fb5d"
      },
      "source": [
        "groupby_genres = df_movies_ratings.groupBy(\"genres\").count()\n",
        "groupby_genres.show()"
      ],
      "execution_count": 38,
      "outputs": [
        {
          "output_type": "stream",
          "text": [
            "+--------------------+-----+\n",
            "|              genres|count|\n",
            "+--------------------+-----+\n",
            "|Adventure|Sci-Fi|...|   33|\n",
            "|Comedy|Horror|Thr...|  115|\n",
            "|Action|Adventure|...|  204|\n",
            "| Action|Drama|Horror|   20|\n",
            "|Action|Animation|...|    7|\n",
            "|Action|Adventure|...|  479|\n",
            "|    Adventure|Sci-Fi|  128|\n",
            "|Animation|Childre...|  115|\n",
            "|Adventure|Childre...|    2|\n",
            "|Documentary|Music...|    1|\n",
            "| Adventure|Animation|    2|\n",
            "| Musical|Romance|War|    9|\n",
            "|Comedy|Crime|Horr...|    2|\n",
            "|Adventure|Childre...|   17|\n",
            "|Crime|Drama|Fanta...|    3|\n",
            "|Action|Adventure|...|    9|\n",
            "|   Adventure|Fantasy|  584|\n",
            "|Comedy|Mystery|Th...|   47|\n",
            "|Horror|Romance|Sc...|    1|\n",
            "|Drama|Film-Noir|R...|   33|\n",
            "+--------------------+-----+\n",
            "only showing top 20 rows\n",
            "\n"
          ],
          "name": "stdout"
        }
      ]
    }
  ]
}